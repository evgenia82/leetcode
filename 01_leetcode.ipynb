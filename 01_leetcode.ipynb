{
 "cells": [
  {
   "cell_type": "markdown",
   "metadata": {},
   "source": [
    "**1732. Find the Highest Altitude**   "
   ]
  },
  {
   "cell_type": "code",
   "execution_count": 6,
   "metadata": {},
   "outputs": [
    {
     "name": "stdout",
     "output_type": "stream",
     "text": [
      "[0, -4, -7, -9, -10, -6, -3, -1] 0\n"
     ]
    }
   ],
   "source": [
    "gain = [-4,-3,-2,-1,4,3,2]\n",
    "altitude = [0]\n",
    "for elem1, elem2 in zip(gain, altitude):\n",
    "    altitude.append(elem1+elem2)\n",
    "print(altitude, max(altitude))"
   ]
  },
  {
   "cell_type": "markdown",
   "metadata": {},
   "source": [
    "**1534. Count good triplets**"
   ]
  },
  {
   "cell_type": "code",
   "execution_count": 10,
   "metadata": {},
   "outputs": [
    {
     "data": {
      "text/plain": [
       "4"
      ]
     },
     "execution_count": 10,
     "metadata": {},
     "output_type": "execute_result"
    }
   ],
   "source": [
    "arr = [3,0,1,1,9,7]\n",
    "a = 7\n",
    "b = 2\n",
    "c = 3\n",
    "ans = 0\n",
    "for i in range(len(arr)):\n",
    "    for j in range(i+1, len(arr)):\n",
    "        if abs(arr[j] - arr[i]) <= a:\n",
    "            for k in range(j+1, len(arr)):\n",
    "                if (abs(arr[k] - arr[j]) <= b) and (abs(arr[i] - arr[k]) <= c):\n",
    "                    ans += 1\n",
    "ans"
   ]
  },
  {
   "cell_type": "markdown",
   "metadata": {},
   "source": [
    "**1768. Merge Strings Alternately**"
   ]
  },
  {
   "cell_type": "code",
   "execution_count": 14,
   "metadata": {},
   "outputs": [
    {
     "data": {
      "text/plain": [
       "'apbqcr'"
      ]
     },
     "execution_count": 14,
     "metadata": {},
     "output_type": "execute_result"
    }
   ],
   "source": [
    "# when strings are equal length\n",
    "word1 = \"abc\"\n",
    "word2 = \"pqr\"\n",
    "s = \"\"\n",
    "for i in range(len(word1)):\n",
    "    s += (word1[i] + word2[i])\n",
    "s"
   ]
  },
  {
   "cell_type": "code",
   "execution_count": 16,
   "metadata": {},
   "outputs": [
    {
     "data": {
      "text/plain": [
       "'apbqrs'"
      ]
     },
     "execution_count": 16,
     "metadata": {},
     "output_type": "execute_result"
    }
   ],
   "source": [
    "# when strings are not equal\n",
    "word1 = \"ab\"\n",
    "word2 = \"pqrs\"\n",
    "s=''\n",
    "        \n",
    "for i in range(min(len(word1),len(word2))):\n",
    "    s+=word1[i]+word2[i]\n",
    "            \n",
    "s + word1[i+1:] + word2[i+1:]"
   ]
  },
  {
   "cell_type": "markdown",
   "metadata": {},
   "source": [
    "**709. To Lower Case**"
   ]
  },
  {
   "cell_type": "code",
   "execution_count": 23,
   "metadata": {},
   "outputs": [
    {
     "name": "stdout",
     "output_type": "stream",
     "text": [
      "a b c d e f g h i j k l m n o p q r s t u v w x y z "
     ]
    }
   ],
   "source": [
    "for c in range(97, 123): \n",
    "    print(chr(c), end = \" \"); "
   ]
  },
  {
   "cell_type": "code",
   "execution_count": 24,
   "metadata": {},
   "outputs": [
    {
     "name": "stdout",
     "output_type": "stream",
     "text": [
      "A B C D E F G H I J K L M N O P Q R S T U V W X Y Z "
     ]
    }
   ],
   "source": [
    "for c in range(65, 91): \n",
    "    print(chr(c), end = \" \"); "
   ]
  },
  {
   "cell_type": "code",
   "execution_count": 35,
   "metadata": {},
   "outputs": [
    {
     "data": {
      "text/plain": [
       "'hello'"
      ]
     },
     "execution_count": 35,
     "metadata": {},
     "output_type": "execute_result"
    }
   ],
   "source": [
    "s = \"HelLo\"\n",
    "new_s = \"\"\n",
    "for char in s:\n",
    "    if ord(char) in range(65,91):\n",
    "        new_s += chr((ord(char) + 32))\n",
    "    else:\n",
    "        new_s += char\n",
    "new_s"
   ]
  },
  {
   "cell_type": "code",
   "execution_count": null,
   "metadata": {},
   "outputs": [],
   "source": []
  },
  {
   "cell_type": "code",
   "execution_count": null,
   "metadata": {},
   "outputs": [],
   "source": []
  }
 ],
 "metadata": {
  "kernelspec": {
   "display_name": "Python 3",
   "language": "python",
   "name": "python3"
  },
  "language_info": {
   "codemirror_mode": {
    "name": "ipython",
    "version": 3
   },
   "file_extension": ".py",
   "mimetype": "text/x-python",
   "name": "python",
   "nbconvert_exporter": "python",
   "pygments_lexer": "ipython3",
   "version": "3.8.5"
  }
 },
 "nbformat": 4,
 "nbformat_minor": 4
}
