{
 "cells": [
  {
   "cell_type": "markdown",
   "metadata": {},
   "source": [
    "**1732. Find the Highest Altitude**   "
   ]
  },
  {
   "cell_type": "code",
   "execution_count": 6,
   "metadata": {},
   "outputs": [
    {
     "name": "stdout",
     "output_type": "stream",
     "text": [
      "[0, -4, -7, -9, -10, -6, -3, -1] 0\n"
     ]
    }
   ],
   "source": [
    "gain = [-4,-3,-2,-1,4,3,2]\n",
    "altitude = [0]\n",
    "for elem1, elem2 in zip(gain, altitude):\n",
    "    altitude.append(elem1+elem2)\n",
    "print(altitude, max(altitude))"
   ]
  },
  {
   "cell_type": "markdown",
   "metadata": {},
   "source": [
    "**1534. Count good triplets**"
   ]
  },
  {
   "cell_type": "code",
   "execution_count": 10,
   "metadata": {},
   "outputs": [
    {
     "data": {
      "text/plain": [
       "4"
      ]
     },
     "execution_count": 10,
     "metadata": {},
     "output_type": "execute_result"
    }
   ],
   "source": [
    "arr = [3,0,1,1,9,7]\n",
    "a = 7\n",
    "b = 2\n",
    "c = 3\n",
    "ans = 0\n",
    "for i in range(len(arr)):\n",
    "    for j in range(i+1, len(arr)):\n",
    "        if abs(arr[j] - arr[i]) <= a:\n",
    "            for k in range(j+1, len(arr)):\n",
    "                if (abs(arr[k] - arr[j]) <= b) and (abs(arr[i] - arr[k]) <= c):\n",
    "                    ans += 1\n",
    "ans"
   ]
  },
  {
   "cell_type": "markdown",
   "metadata": {},
   "source": [
    "**1768. Merge Strings Alternately**"
   ]
  },
  {
   "cell_type": "code",
   "execution_count": 14,
   "metadata": {},
   "outputs": [
    {
     "data": {
      "text/plain": [
       "'apbqcr'"
      ]
     },
     "execution_count": 14,
     "metadata": {},
     "output_type": "execute_result"
    }
   ],
   "source": [
    "# when strings are equal length\n",
    "word1 = \"abc\"\n",
    "word2 = \"pqr\"\n",
    "s = \"\"\n",
    "for i in range(len(word1)):\n",
    "    s += (word1[i] + word2[i])\n",
    "s"
   ]
  },
  {
   "cell_type": "code",
   "execution_count": 16,
   "metadata": {},
   "outputs": [
    {
     "data": {
      "text/plain": [
       "'apbqrs'"
      ]
     },
     "execution_count": 16,
     "metadata": {},
     "output_type": "execute_result"
    }
   ],
   "source": [
    "# when strings are not equal\n",
    "word1 = \"ab\"\n",
    "word2 = \"pqrs\"\n",
    "s=''\n",
    "        \n",
    "for i in range(min(len(word1),len(word2))):\n",
    "    s+=word1[i]+word2[i]\n",
    "            \n",
    "s + word1[i+1:] + word2[i+1:]"
   ]
  },
  {
   "cell_type": "markdown",
   "metadata": {},
   "source": [
    "**709. To Lower Case**"
   ]
  },
  {
   "cell_type": "code",
   "execution_count": 23,
   "metadata": {},
   "outputs": [
    {
     "name": "stdout",
     "output_type": "stream",
     "text": [
      "a b c d e f g h i j k l m n o p q r s t u v w x y z "
     ]
    }
   ],
   "source": [
    "for c in range(97, 123): \n",
    "    print(chr(c), end = \" \"); "
   ]
  },
  {
   "cell_type": "code",
   "execution_count": 24,
   "metadata": {},
   "outputs": [
    {
     "name": "stdout",
     "output_type": "stream",
     "text": [
      "A B C D E F G H I J K L M N O P Q R S T U V W X Y Z "
     ]
    }
   ],
   "source": [
    "for c in range(65, 91): \n",
    "    print(chr(c), end = \" \"); "
   ]
  },
  {
   "cell_type": "code",
   "execution_count": 35,
   "metadata": {},
   "outputs": [
    {
     "data": {
      "text/plain": [
       "'hello'"
      ]
     },
     "execution_count": 35,
     "metadata": {},
     "output_type": "execute_result"
    }
   ],
   "source": [
    "s = \"HelLo\"\n",
    "new_s = \"\"\n",
    "for char in s:\n",
    "    if ord(char) in range(65,91):\n",
    "        new_s += chr((ord(char) + 32))\n",
    "    else:\n",
    "        new_s += char\n",
    "new_s"
   ]
  },
  {
   "cell_type": "markdown",
   "metadata": {},
   "source": [
    "**1295. Find Numbers with Even Number of Digits**"
   ]
  },
  {
   "cell_type": "code",
   "execution_count": null,
   "metadata": {},
   "outputs": [],
   "source": [
    "# We are going to take advantage of the fact that the array only contains positive integers.\n",
    "# A common formula for finding the number of digits in a positive number is digits = floor(log10(num)) + 1\n",
    "# Even if the array contained negatives, you could just do the same with the absolute value of num.\n",
    "# This turns the runtime into O(N) and there is no additional space needed so O(1) space.\n",
    "# You also don't need to convert this into a string which a lot of other solutions do and has other implications in terms of space complexity.\n",
    "# https://brilliant.org/wiki/finding-digits-of-a-number/"
   ]
  },
  {
   "cell_type": "code",
   "execution_count": 15,
   "metadata": {},
   "outputs": [
    {
     "name": "stdout",
     "output_type": "stream",
     "text": [
      "3\n",
      "3\n",
      "3\n",
      "4\n"
     ]
    },
    {
     "data": {
      "text/plain": [
       "1"
      ]
     },
     "execution_count": 15,
     "metadata": {},
     "output_type": "execute_result"
    }
   ],
   "source": [
    "# this is a faster solution\n",
    "import math\n",
    "result = 0\n",
    "        \n",
    "for num in nums:\n",
    "    num_digits = math.floor(math.log10(num)) + 1\n",
    "    print(num_digits)\n",
    "    if num_digits % 2 == 0:\n",
    "        result += 1\n",
    "                \n",
    "result"
   ]
  },
  {
   "cell_type": "code",
   "execution_count": 18,
   "metadata": {},
   "outputs": [
    {
     "data": {
      "text/plain": [
       "[4]"
      ]
     },
     "execution_count": 18,
     "metadata": {},
     "output_type": "execute_result"
    }
   ],
   "source": [
    "# this solution is slower than the first one\n",
    "my_list = [(math.floor(math.log10(num)) + 1) for num in nums if (math.floor(math.log10(num)) + 1)%2 == 0]\n",
    "my_list"
   ]
  },
  {
   "cell_type": "markdown",
   "metadata": {},
   "source": [
    "**1573. Number of Ways to Split a String**"
   ]
  },
  {
   "cell_type": "code",
   "execution_count": 10,
   "metadata": {},
   "outputs": [],
   "source": [
    "# watch a great expalanation\n",
    "# https://www.youtube.com/watch?v=ptBH9EdxjrY\n",
    "# ref: https://en.wikipedia.org/wiki/Combination\n",
    "# combination of selecting 2 places to split the string out of n-1 places"
   ]
  },
  {
   "cell_type": "code",
   "execution_count": 11,
   "metadata": {},
   "outputs": [],
   "source": [
    "def numWays(s):\n",
    "    ones = 0\n",
    "    n = len(s)\n",
    "    for char in s:\n",
    "        if char == '1':\n",
    "            ones += 1\n",
    "                \n",
    "    if ones%3 != 0:\n",
    "        return 0\n",
    "        \n",
    "    elif ones == 0:\n",
    "        return ((n-1)*(n-2)//2) % (10**9+7)\n",
    "        \n",
    "    ones_per_group = ones/3\n",
    "    counter = 0\n",
    "    first_block = 0\n",
    "    second_block = 0\n",
    "    for char in s:\n",
    "        if char == '1':\n",
    "            counter += 1\n",
    "        if counter == ones_per_group:\n",
    "            first_block += 1\n",
    "        elif counter == 2*ones_per_group:\n",
    "            second_block += 1\n",
    "               \n",
    "    return (first_block * second_block) % (10**9+7)        "
   ]
  },
  {
   "cell_type": "code",
   "execution_count": 12,
   "metadata": {},
   "outputs": [
    {
     "data": {
      "text/plain": [
       "12"
      ]
     },
     "execution_count": 12,
     "metadata": {},
     "output_type": "execute_result"
    }
   ],
   "source": [
    "s = \"100100010100110\"\n",
    "numWays(s)"
   ]
  },
  {
   "cell_type": "markdown",
   "metadata": {},
   "source": [
    "**1021. Remove Outermost Parentheses**"
   ]
  },
  {
   "cell_type": "code",
   "execution_count": 8,
   "metadata": {},
   "outputs": [
    {
     "data": {
      "text/plain": [
       "'()()'"
      ]
     },
     "execution_count": 8,
     "metadata": {},
     "output_type": "execute_result"
    }
   ],
   "source": [
    "s =  \"()()\"\n",
    "new_s = \"\"\n",
    "for char1, char2 in zip(s[:-1],s[1:]):\n",
    "    if char1 == '(' and char2 ==')':\n",
    "        new_s += char1 + char2\n",
    "new_s"
   ]
  },
  {
   "cell_type": "code",
   "execution_count": 10,
   "metadata": {},
   "outputs": [
    {
     "data": {
      "text/plain": [
       "1"
      ]
     },
     "execution_count": 10,
     "metadata": {},
     "output_type": "execute_result"
    }
   ],
   "source": [
    "s = \"()()\"\n",
    "res = cur = 0\n",
    "for c in s:\n",
    "    if c == '(':\n",
    "        cur += 1\n",
    "        res = max(res, cur)\n",
    "    if c == ')':\n",
    "        cur -= 1\n",
    "res"
   ]
  },
  {
   "cell_type": "code",
   "execution_count": 15,
   "metadata": {},
   "outputs": [
    {
     "data": {
      "text/plain": [
       "'()()()()(())'"
      ]
     },
     "execution_count": 15,
     "metadata": {},
     "output_type": "execute_result"
    }
   ],
   "source": [
    "# correct answer\n",
    "s = \"(()())(())(()(()))\"\n",
    "result = []\n",
    "opened = 0\n",
    "for c in s:\n",
    "    if c == '(' and opened > 0:\n",
    "        result.append(c)\n",
    "    elif c == ')' and opened > 1:\n",
    "        result.append(c)\n",
    "    opened += 1 if c == '(' else -1\n",
    "\"\".join(result)"
   ]
  },
  {
   "cell_type": "markdown",
   "metadata": {},
   "source": [
    "**804. Unique Morse Code Words**"
   ]
  },
  {
   "cell_type": "code",
   "execution_count": 3,
   "metadata": {},
   "outputs": [
    {
     "data": {
      "text/plain": [
       "103"
      ]
     },
     "execution_count": 3,
     "metadata": {},
     "output_type": "execute_result"
    }
   ],
   "source": [
    "words = [\"gin\", \"zen\", \"gig\", \"msg\"]\n",
    "s = \"gin\"\n",
    "ord(s[0])"
   ]
  },
  {
   "cell_type": "code",
   "execution_count": 7,
   "metadata": {},
   "outputs": [],
   "source": [
    "mapping = [\".-\",\"-...\",\"-.-.\",\"-..\",\".\",\"..-.\",\"--.\",\"....\",\"..\",\".---\",\"-.-\",\".-..\",\"--\",\"-.\",\"---\",\".--.\",\"--.-\",\".-.\",\"...\",\"-\",\"..-\",\"...-\",\".--\",\"-..-\",\"-.--\",\"--..\"]\n",
    "alphabet = [chr(i) for i in range(ord('a'),ord('z')+1)]"
   ]
  },
  {
   "cell_type": "code",
   "execution_count": 8,
   "metadata": {},
   "outputs": [
    {
     "name": "stdout",
     "output_type": "stream",
     "text": [
      "g\n",
      "i\n",
      "n\n",
      "z\n",
      "e\n",
      "n\n",
      "g\n",
      "i\n",
      "g\n",
      "m\n",
      "s\n",
      "g\n"
     ]
    }
   ],
   "source": [
    "for word in words:\n",
    "    value = word\n",
    "    for char in value:\n",
    "        print(char)"
   ]
  },
  {
   "cell_type": "code",
   "execution_count": 11,
   "metadata": {},
   "outputs": [
    {
     "data": {
      "text/plain": [
       "2"
      ]
     },
     "execution_count": 11,
     "metadata": {},
     "output_type": "execute_result"
    }
   ],
   "source": [
    "res=set()\n",
    "        \n",
    "for word in words:\n",
    "    val=\"\"\n",
    "    for s in word:\n",
    "        val+=mapping[ord(s)-ord('a')]\n",
    "    res.add(val)\n",
    "        \n",
    "len(res)"
   ]
  },
  {
   "cell_type": "markdown",
   "metadata": {},
   "source": [
    "**832. Flipping an Image**"
   ]
  },
  {
   "cell_type": "code",
   "execution_count": 13,
   "metadata": {},
   "outputs": [],
   "source": [
    "image = [[1,1,0],[1,0,1],[0,0,0]]"
   ]
  },
  {
   "cell_type": "code",
   "execution_count": 23,
   "metadata": {},
   "outputs": [
    {
     "name": "stdout",
     "output_type": "stream",
     "text": [
      "[[0, 1, 1], [1, 0, 1], [0, 0, 0]]\n"
     ]
    }
   ],
   "source": [
    "reversed_image = []\n",
    "for row in image: \n",
    "    reversed_image.append(row[::-1])\n",
    "print(reversed_image)\n"
   ]
  },
  {
   "cell_type": "code",
   "execution_count": 29,
   "metadata": {},
   "outputs": [],
   "source": [
    "def flipAndInvertImage(A):\n",
    "    if not image or not image[0]:\n",
    "        return None\n",
    "\n",
    "    middle = (len(image[0]) + 1) // 2\n",
    "    for row in image:\n",
    "        for left in range(middle):\n",
    "            right = len(row) - 1 - left\n",
    "            row[left], row[right] = row[right] ^ 1, row[left] ^ 1\n",
    "    return image"
   ]
  },
  {
   "cell_type": "code",
   "execution_count": 30,
   "metadata": {},
   "outputs": [
    {
     "data": {
      "text/plain": [
       "[[1, 0, 0], [0, 1, 0], [1, 1, 1]]"
      ]
     },
     "execution_count": 30,
     "metadata": {},
     "output_type": "execute_result"
    }
   ],
   "source": [
    "flipAndInvertImage(image)"
   ]
  },
  {
   "cell_type": "markdown",
   "metadata": {},
   "source": [
    "**1572. Matrix Diagonal Sum**"
   ]
  },
  {
   "cell_type": "code",
   "execution_count": 21,
   "metadata": {},
   "outputs": [],
   "source": [
    "mat = [[1,2,3],\n",
    "              [4,5,6],\n",
    "              [7,8,9]]"
   ]
  },
  {
   "cell_type": "code",
   "execution_count": 23,
   "metadata": {},
   "outputs": [
    {
     "data": {
      "text/plain": [
       "30"
      ]
     },
     "execution_count": 23,
     "metadata": {},
     "output_type": "execute_result"
    }
   ],
   "source": [
    "# my solution - needs correction, remove double counting of the middle element\n",
    "sum_mat = 0\n",
    "for i in range(len(mat)):\n",
    "    for j in range(len(mat[i])):\n",
    "        if i == j:\n",
    "            sum_mat += mat[i][j] + mat[j][i]\n",
    "sum_mat"
   ]
  },
  {
   "cell_type": "code",
   "execution_count": 29,
   "metadata": {},
   "outputs": [
    {
     "data": {
      "text/plain": [
       "25"
      ]
     },
     "execution_count": 29,
     "metadata": {},
     "output_type": "execute_result"
    }
   ],
   "source": [
    "row, col, total = len(mat), len(mat[0]), 0\n",
    "for i in range(row):\n",
    "    total += mat[i][i] + mat[i][col-i-1]\n",
    "if row%2 != 0:\n",
    "    total -= mat[row//2][col//2]\n",
    "total"
   ]
  },
  {
   "cell_type": "code",
   "execution_count": 27,
   "metadata": {},
   "outputs": [],
   "source": [
    "def diagonalSum(mat):\n",
    "    row,col,total = len(mat),len(mat[0]),0\n",
    "    for i in range(row):\n",
    "        total+=mat[i][i]+mat[i][col-i-1]\n",
    "    return total-mat[row//2][col//2] if row%2!=0 else total\n"
   ]
  },
  {
   "cell_type": "code",
   "execution_count": 28,
   "metadata": {},
   "outputs": [
    {
     "data": {
      "text/plain": [
       "25"
      ]
     },
     "execution_count": 28,
     "metadata": {},
     "output_type": "execute_result"
    }
   ],
   "source": [
    "diagonalSum(mat)"
   ]
  },
  {
   "cell_type": "markdown",
   "metadata": {},
   "source": [
    "**1323. Maximum 69 Number**"
   ]
  },
  {
   "cell_type": "code",
   "execution_count": 30,
   "metadata": {},
   "outputs": [],
   "source": [
    "num = 9669"
   ]
  },
  {
   "cell_type": "code",
   "execution_count": 32,
   "metadata": {},
   "outputs": [
    {
     "data": {
      "text/plain": [
       "9969"
      ]
     },
     "execution_count": 32,
     "metadata": {},
     "output_type": "execute_result"
    }
   ],
   "source": [
    "s = str(num)\n",
    "new_s = s.replace('6','9',1)\n",
    "int(new_s)"
   ]
  },
  {
   "cell_type": "markdown",
   "metadata": {},
   "source": [
    "**1725. Number Of Rectangles That Can Form The Largest Square**"
   ]
  },
  {
   "cell_type": "code",
   "execution_count": 21,
   "metadata": {},
   "outputs": [
    {
     "data": {
      "text/plain": [
       "1"
      ]
     },
     "execution_count": 21,
     "metadata": {},
     "output_type": "execute_result"
    }
   ],
   "source": [
    "rectangles = [[5,8],[3,9],[3,12]]\n",
    "# rectangles = [[2,3],[3,7],[4,3],[3,7]]\n",
    "row, col = len(rectangles), len(rectangles[0])\n",
    "new_list = []\n",
    "for i in range(row):\n",
    "    new_list.append(min(rectangles[i]))\n",
    "\n",
    "count = 0\n",
    "for element in new_list:\n",
    "    if element == max(sorted(new_list)):\n",
    "        count += 1\n",
    "        \n",
    "count"
   ]
  }
 ],
 "metadata": {
  "kernelspec": {
   "display_name": "Python 3",
   "language": "python",
   "name": "python3"
  },
  "language_info": {
   "codemirror_mode": {
    "name": "ipython",
    "version": 3
   },
   "file_extension": ".py",
   "mimetype": "text/x-python",
   "name": "python",
   "nbconvert_exporter": "python",
   "pygments_lexer": "ipython3",
   "version": "3.8.5"
  }
 },
 "nbformat": 4,
 "nbformat_minor": 4
}
