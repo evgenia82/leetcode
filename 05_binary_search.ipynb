{
 "cells": [
  {
   "cell_type": "code",
   "execution_count": 14,
   "metadata": {},
   "outputs": [],
   "source": [
    "nums = [-1,0,3,5,9,12] \n",
    "target = 121"
   ]
  },
  {
   "cell_type": "code",
   "execution_count": 15,
   "metadata": {},
   "outputs": [],
   "source": [
    "def binary_search(nums, target):\n",
    "    \n",
    "    # First and last index values\n",
    "    low = 0\n",
    "    high = len(nums) - 1\n",
    "    found = False\n",
    "    while low <= high and not found:\n",
    "\n",
    "        middle = (low + high)//2\n",
    "        \n",
    "        # Match found\n",
    "        if target == nums[middle]:\n",
    "            found = True\n",
    "            \n",
    "        # Set new midpoints up or down depending on comparison\n",
    "        else:\n",
    "            # lower part of the array\n",
    "            if target < nums[middle]:\n",
    "                high = middle - 1\n",
    "                \n",
    "            # upper part of the array\n",
    "            else:\n",
    "                low = middle + 1\n",
    "    print(found)\n",
    "    return middle if found else 0"
   ]
  },
  {
   "cell_type": "code",
   "execution_count": 16,
   "metadata": {},
   "outputs": [
    {
     "name": "stdout",
     "output_type": "stream",
     "text": [
      "False\n"
     ]
    },
    {
     "data": {
      "text/plain": [
       "0"
      ]
     },
     "execution_count": 16,
     "metadata": {},
     "output_type": "execute_result"
    }
   ],
   "source": [
    "binary_search(nums, target)"
   ]
  },
  {
   "cell_type": "code",
   "execution_count": 18,
   "metadata": {},
   "outputs": [],
   "source": [
    "def binary_search_easy(nums, target):\n",
    "    for i in range(len(nums)):\n",
    "        if nums[i] == target:\n",
    "            return i\n",
    "    return -1"
   ]
  },
  {
   "cell_type": "code",
   "execution_count": 19,
   "metadata": {},
   "outputs": [
    {
     "data": {
      "text/plain": [
       "-1"
      ]
     },
     "execution_count": 19,
     "metadata": {},
     "output_type": "execute_result"
    }
   ],
   "source": [
    "binary_search_easy(nums, target)"
   ]
  },
  {
   "cell_type": "code",
   "execution_count": null,
   "metadata": {},
   "outputs": [],
   "source": []
  }
 ],
 "metadata": {
  "kernelspec": {
   "display_name": "Python 3",
   "language": "python",
   "name": "python3"
  },
  "language_info": {
   "codemirror_mode": {
    "name": "ipython",
    "version": 3
   },
   "file_extension": ".py",
   "mimetype": "text/x-python",
   "name": "python",
   "nbconvert_exporter": "python",
   "pygments_lexer": "ipython3",
   "version": "3.8.5"
  }
 },
 "nbformat": 4,
 "nbformat_minor": 4
}
