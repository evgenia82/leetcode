{
 "cells": [
  {
   "cell_type": "markdown",
   "metadata": {},
   "source": [
    "[**1700. Number of Students Unable to Eat Lunch**](https://leetcode.com/problems/number-of-students-unable-to-eat-lunch/)\n"
   ]
  },
  {
   "cell_type": "code",
   "execution_count": 8,
   "metadata": {},
   "outputs": [],
   "source": [
    "def countStudents(stu, sand):\n",
    "        while sand:\n",
    "            if sand[0] in stu:\n",
    "                stu.remove(sand[0])\n",
    "                sand.pop(0)\n",
    "            else:break\n",
    "        return len(sand)"
   ]
  },
  {
   "cell_type": "code",
   "execution_count": 9,
   "metadata": {},
   "outputs": [
    {
     "data": {
      "text/plain": [
       "3"
      ]
     },
     "execution_count": 9,
     "metadata": {},
     "output_type": "execute_result"
    }
   ],
   "source": [
    "countStudents([1,1,1,0,0,1], [1,0,0,0,1,1])"
   ]
  },
  {
   "cell_type": "code",
   "execution_count": 10,
   "metadata": {},
   "outputs": [],
   "source": [
    "students = [1,1,1,0,0,1]\n",
    "sandwiches = [1,0,0,0,1,1]"
   ]
  },
  {
   "cell_type": "code",
   "execution_count": 11,
   "metadata": {},
   "outputs": [],
   "source": [
    "students = [1,1,0,0]\n",
    "sandwiches = [0,1,0,1]"
   ]
  },
  {
   "cell_type": "code",
   "execution_count": 12,
   "metadata": {},
   "outputs": [],
   "source": [
    "# my solution. I use a python list \n",
    "def countStudents2(students, sandwiches):\n",
    "    \n",
    "    # while we still have students waiting in line to eat\n",
    "    while students:\n",
    "        \n",
    "        # if there is no such kind of sandwiches that students want - break\n",
    "        if sandwiches[0] not in students:\n",
    "            break\n",
    "            \n",
    "        # if a student doesn't want that sandwich - he goes to the end of the line\n",
    "        elif students[0] != sandwiches[0]:\n",
    "            val = students.pop(0)\n",
    "            students.append(val)\n",
    "            \n",
    "        # if the student takes a sandwich - remove the student and the sandwich\n",
    "        else:\n",
    "            students.pop(0)\n",
    "            sandwiches.pop(0)\n",
    "            \n",
    "    # return how many hungry students left\n",
    "    return len(students)"
   ]
  },
  {
   "cell_type": "code",
   "execution_count": 13,
   "metadata": {},
   "outputs": [
    {
     "data": {
      "text/plain": [
       "0"
      ]
     },
     "execution_count": 13,
     "metadata": {},
     "output_type": "execute_result"
    }
   ],
   "source": [
    "countStudents([1,1,0,0], [0,1,0,1])"
   ]
  },
  {
   "cell_type": "markdown",
   "metadata": {},
   "source": [
    "[**1441. Build an Array With Stack Operations**](https://leetcode.com/problems/build-an-array-with-stack-operations/)"
   ]
  },
  {
   "cell_type": "code",
   "execution_count": 31,
   "metadata": {},
   "outputs": [],
   "source": [
    "target = [2,3,4]\n",
    "n = 4"
   ]
  },
  {
   "cell_type": "code",
   "execution_count": 33,
   "metadata": {},
   "outputs": [],
   "source": [
    "def buildArray(target, n):\n",
    "    # create a list to store the results\n",
    "    output = list()\n",
    "        \n",
    "    # iterate through the sequence of numbers\n",
    "    for number in range(1, n + 1):\n",
    "            \n",
    "        # check if the number equals to the first element of target array\n",
    "        if number == target[0]:\n",
    "                \n",
    "            # if yes, add \"push\" to the output\n",
    "            output.extend([\"Push\"])\n",
    "                \n",
    "            # remove the number from the target array\n",
    "            target.pop(0)\n",
    "                \n",
    "        else:\n",
    "            # if no, add [\"push\", \"pop\"] to the output\n",
    "            output.extend([\"Push\", \"Pop\"])\n",
    "                \n",
    "        # increase the number  \n",
    "        number += 1\n",
    "            \n",
    "        # break the loop if the target array is empty\n",
    "        if not target:\n",
    "            break\n",
    "    return output"
   ]
  },
  {
   "cell_type": "code",
   "execution_count": 34,
   "metadata": {},
   "outputs": [
    {
     "data": {
      "text/plain": [
       "['Push', 'Pop', 'Push', 'Push', 'Push']"
      ]
     },
     "execution_count": 34,
     "metadata": {},
     "output_type": "execute_result"
    }
   ],
   "source": [
    "buildArray(target = [2,3,4],n = 4)"
   ]
  },
  {
   "cell_type": "markdown",
   "metadata": {},
   "source": [
    "[**232. Implement Queue using Stacks**](https://leetcode.com/problems/implement-queue-using-stacks/)"
   ]
  },
  {
   "cell_type": "code",
   "execution_count": 44,
   "metadata": {},
   "outputs": [],
   "source": [
    "class MyQueue:\n",
    "\n",
    "    def __init__(self):\n",
    "        \"\"\"\n",
    "        Initialize your data structure here.\n",
    "        \"\"\"\n",
    "        # two stacks\n",
    "        self.instack = list()\n",
    "        self.outstack = list()\n",
    "        \n",
    "\n",
    "    def push(self, x: int) -> None:\n",
    "        \"\"\"\n",
    "        Push element x to the back of queue.\n",
    "        \"\"\"\n",
    "        self.instack.append(x)\n",
    "\n",
    "    def pop(self) -> int:\n",
    "        \"\"\"\n",
    "        Removes the element from in front of queue and returns that element.\n",
    "        \"\"\"\n",
    "        if not self.outstack:\n",
    "            while self.instack:\n",
    "                # Add or move the elements to the outstack to reverse the order when called\n",
    "                self.outstack.append(self.instack.pop())\n",
    "        return self.outstack.pop() \n",
    "\n",
    "    def peek(self) -> int:\n",
    "        \"\"\"\n",
    "        Get the front element.\n",
    "        \"\"\"\n",
    "        if not self.outstack:\n",
    "            while self.instack:\n",
    "                # Add or move the elements to the outstack to reverse the order when called\n",
    "                self.outstack.append(self.instack.pop())\n",
    "        # return the last element without poping it       \n",
    "        return self.outstack[-1]\n",
    "\n",
    "    def empty(self) -> bool:\n",
    "        \"\"\"\n",
    "        Returns whether the queue is empty.\n",
    "        \"\"\"\n",
    "        return self.instack == list() and self.outstack == list()"
   ]
  },
  {
   "cell_type": "code",
   "execution_count": 45,
   "metadata": {},
   "outputs": [],
   "source": [
    "# Your MyQueue object will be instantiated and called as such:\n",
    "obj = MyQueue()"
   ]
  },
  {
   "cell_type": "code",
   "execution_count": 46,
   "metadata": {},
   "outputs": [],
   "source": [
    "obj.push(99)\n",
    "obj.push(97)"
   ]
  },
  {
   "cell_type": "code",
   "execution_count": 47,
   "metadata": {},
   "outputs": [
    {
     "data": {
      "text/plain": [
       "99"
      ]
     },
     "execution_count": 47,
     "metadata": {},
     "output_type": "execute_result"
    }
   ],
   "source": [
    "param_2 = obj.pop()\n",
    "param_2"
   ]
  },
  {
   "cell_type": "code",
   "execution_count": 48,
   "metadata": {},
   "outputs": [
    {
     "data": {
      "text/plain": [
       "97"
      ]
     },
     "execution_count": 48,
     "metadata": {},
     "output_type": "execute_result"
    }
   ],
   "source": [
    "param_3 = obj.peek()\n",
    "param_3"
   ]
  },
  {
   "cell_type": "code",
   "execution_count": 49,
   "metadata": {},
   "outputs": [
    {
     "data": {
      "text/plain": [
       "False"
      ]
     },
     "execution_count": 49,
     "metadata": {},
     "output_type": "execute_result"
    }
   ],
   "source": [
    "param_4 = obj.empty()\n",
    "param_4"
   ]
  },
  {
   "cell_type": "markdown",
   "metadata": {},
   "source": [
    "[**225. Implement Stack using Queues**](https://leetcode.com/problems/implement-stack-using-queues/)"
   ]
  },
  {
   "cell_type": "code",
   "execution_count": 2,
   "metadata": {},
   "outputs": [],
   "source": [
    "class MyStack:\n",
    "\n",
    "    def __init__(self):\n",
    "        \"\"\"\n",
    "        Initialize your data structure here.\n",
    "        \"\"\"\n",
    "        self.inqueue = list()\n",
    "        self.outqueue = list()\n",
    "\n",
    "    def push(self, x: int) -> None:\n",
    "        \"\"\"\n",
    "        Push element x onto stack.\n",
    "        \"\"\"\n",
    "        self.inqueue.insert(0, x)\n",
    "        \n",
    "\n",
    "    def pop(self) -> int:\n",
    "        \"\"\"\n",
    "        Removes the element on top of the stack and returns that element.\n",
    "        \"\"\"\n",
    "        while self.inqueue:\n",
    "                # Add the elements to the outqueue to reverse the order when called\n",
    "            self.outqueue.insert(0, self.inqueue.pop())\n",
    "        return self.outqueue.pop(0)\n",
    "        \n",
    "\n",
    "    def top(self) -> int:\n",
    "        \"\"\"\n",
    "        Get the top element.\n",
    "        \"\"\"\n",
    "        \n",
    "        while self.inqueue:\n",
    "                # Add the elements to the outqueue to reverse the order when called\n",
    "            self.outqueue.insert(0, self.inqueue.pop())\n",
    "        return self.outqueue[0]\n",
    "        \n",
    "\n",
    "    def empty(self) -> bool:\n",
    "        \"\"\"\n",
    "        Returns whether the stack is empty.\n",
    "        \"\"\"\n",
    "        return self.inqueue == self.outqueue == list()"
   ]
  },
  {
   "cell_type": "code",
   "execution_count": 6,
   "metadata": {},
   "outputs": [],
   "source": [
    "# Your MyStack object will be instantiated and called as such:\n",
    "obj = MyStack()"
   ]
  },
  {
   "cell_type": "code",
   "execution_count": 7,
   "metadata": {},
   "outputs": [],
   "source": [
    "for number in range(11):\n",
    "    obj.push(number)"
   ]
  },
  {
   "cell_type": "code",
   "execution_count": 8,
   "metadata": {},
   "outputs": [
    {
     "data": {
      "text/plain": [
       "10"
      ]
     },
     "execution_count": 8,
     "metadata": {},
     "output_type": "execute_result"
    }
   ],
   "source": [
    "obj.top()"
   ]
  },
  {
   "cell_type": "code",
   "execution_count": 9,
   "metadata": {},
   "outputs": [
    {
     "data": {
      "text/plain": [
       "10"
      ]
     },
     "execution_count": 9,
     "metadata": {},
     "output_type": "execute_result"
    }
   ],
   "source": [
    "obj.pop()"
   ]
  },
  {
   "cell_type": "code",
   "execution_count": 10,
   "metadata": {},
   "outputs": [
    {
     "data": {
      "text/plain": [
       "9"
      ]
     },
     "execution_count": 10,
     "metadata": {},
     "output_type": "execute_result"
    }
   ],
   "source": [
    "obj.top()"
   ]
  },
  {
   "cell_type": "code",
   "execution_count": 11,
   "metadata": {},
   "outputs": [
    {
     "data": {
      "text/plain": [
       "99"
      ]
     },
     "execution_count": 11,
     "metadata": {},
     "output_type": "execute_result"
    }
   ],
   "source": [
    "obj.push(99)\n",
    "obj.top()"
   ]
  },
  {
   "cell_type": "markdown",
   "metadata": {},
   "source": [
    "[**1381. Design a Stack With Increment Operation**](https://leetcode.com/problems/design-a-stack-with-increment-operation/)"
   ]
  },
  {
   "cell_type": "code",
   "execution_count": 32,
   "metadata": {},
   "outputs": [],
   "source": [
    "class CustomStack:\n",
    "\n",
    "    def __init__(self, maxSize: int):\n",
    "        \n",
    "        self.n = maxSize\n",
    "        self.items = list()\n",
    "\n",
    "    def push(self, x: int) -> None:\n",
    "        \n",
    "        if len(self.items) < self.n:\n",
    "            self.items.append(x)\n",
    "        else:\n",
    "            self.items\n",
    "        \n",
    "    def pop(self) -> int:\n",
    "        \n",
    "        if self.items:\n",
    "            return self.items.pop()\n",
    "        else:\n",
    "            return -1\n",
    "        \n",
    "    def increment(self, k: int, val: int) -> None:\n",
    "        # if self.items:\n",
    "        if k > len(self.items):\n",
    "            for number in range(len(self.items)):\n",
    "                self.items[number] += val\n",
    "            return self.items\n",
    "        else:  \n",
    "            for number in range(k):\n",
    "                self.items[number] += val\n",
    "            return self.items"
   ]
  },
  {
   "cell_type": "code",
   "execution_count": 33,
   "metadata": {},
   "outputs": [],
   "source": [
    "# Your CustomStack object will be instantiated and called as such:\n",
    "obj = CustomStack(maxSize = 5)"
   ]
  },
  {
   "cell_type": "code",
   "execution_count": 34,
   "metadata": {},
   "outputs": [],
   "source": [
    "for number in range(11):\n",
    "    obj.push(number)"
   ]
  },
  {
   "cell_type": "code",
   "execution_count": 35,
   "metadata": {},
   "outputs": [
    {
     "data": {
      "text/plain": [
       "[100, 101, 2, 3, 4]"
      ]
     },
     "execution_count": 35,
     "metadata": {},
     "output_type": "execute_result"
    }
   ],
   "source": [
    "obj.increment(2,100)"
   ]
  },
  {
   "cell_type": "code",
   "execution_count": 36,
   "metadata": {},
   "outputs": [
    {
     "data": {
      "text/plain": [
       "[[2],\n",
       " [34],\n",
       " [],\n",
       " [8, 100],\n",
       " [],\n",
       " [9, 91],\n",
       " [63],\n",
       " [],\n",
       " [84],\n",
       " [10, 93],\n",
       " [6, 45],\n",
       " [10, 4]]"
      ]
     },
     "execution_count": 36,
     "metadata": {},
     "output_type": "execute_result"
    }
   ],
   "source": [
    "[\"CustomStack\",\"push\",\"pop\",\"increment\",\"pop\",\"increment\",\"push\",\"pop\",\"push\",\"increment\",\"increment\",\"increment\"]\n",
    "[[2],[34],[],[8,100],[],[9,91],[63],[],[84],[10,93],[6,45],[10,4]]"
   ]
  },
  {
   "cell_type": "code",
   "execution_count": 37,
   "metadata": {},
   "outputs": [],
   "source": [
    "obj = CustomStack(maxSize = 2)"
   ]
  },
  {
   "cell_type": "code",
   "execution_count": 38,
   "metadata": {},
   "outputs": [],
   "source": [
    "obj.push(34)"
   ]
  },
  {
   "cell_type": "code",
   "execution_count": 39,
   "metadata": {},
   "outputs": [
    {
     "data": {
      "text/plain": [
       "34"
      ]
     },
     "execution_count": 39,
     "metadata": {},
     "output_type": "execute_result"
    }
   ],
   "source": [
    "obj.pop()"
   ]
  },
  {
   "cell_type": "code",
   "execution_count": 40,
   "metadata": {},
   "outputs": [
    {
     "data": {
      "text/plain": [
       "[]"
      ]
     },
     "execution_count": 40,
     "metadata": {},
     "output_type": "execute_result"
    }
   ],
   "source": [
    "obj.increment(8,100)"
   ]
  },
  {
   "cell_type": "code",
   "execution_count": 41,
   "metadata": {},
   "outputs": [
    {
     "data": {
      "text/plain": [
       "-1"
      ]
     },
     "execution_count": 41,
     "metadata": {},
     "output_type": "execute_result"
    }
   ],
   "source": [
    "obj.pop()"
   ]
  },
  {
   "cell_type": "code",
   "execution_count": 42,
   "metadata": {},
   "outputs": [
    {
     "data": {
      "text/plain": [
       "[]"
      ]
     },
     "execution_count": 42,
     "metadata": {},
     "output_type": "execute_result"
    }
   ],
   "source": [
    "obj.increment(9,91)"
   ]
  },
  {
   "cell_type": "code",
   "execution_count": 43,
   "metadata": {},
   "outputs": [],
   "source": [
    "obj.push(63)"
   ]
  },
  {
   "cell_type": "markdown",
   "metadata": {},
   "source": [
    "[**70. Climbing Stairs**](https://leetcode.com/problems/climbing-stairs/)"
   ]
  },
  {
   "cell_type": "code",
   "execution_count": 1,
   "metadata": {},
   "outputs": [],
   "source": [
    "def climbStairs(n):\n",
    "    if n <= 0:\n",
    "        return 0\n",
    "    if n == 1:\n",
    "        return 1\n",
    "    if n == 2:\n",
    "        return 2\n",
    "        \n",
    "    one_step_before = 2\n",
    "    two_steps_before = 1\n",
    "    all_ways = 0\n",
    "        \n",
    "    for number in range(3, n+1):\n",
    "        all_ways = one_step_before + two_steps_before\n",
    "        two_steps_before = one_step_before\n",
    "        one_step_before = all_ways\n",
    "    return all_ways       "
   ]
  },
  {
   "cell_type": "code",
   "execution_count": 6,
   "metadata": {},
   "outputs": [
    {
     "data": {
      "text/plain": [
       "63245986"
      ]
     },
     "execution_count": 6,
     "metadata": {},
     "output_type": "execute_result"
    }
   ],
   "source": [
    "climbStairs(38)"
   ]
  },
  {
   "cell_type": "markdown",
   "metadata": {},
   "source": [
    "[**946. Validate Stack Sequences**](https://leetcode.com/problems/validate-stack-sequences/)\n",
    "\n",
    "Watch Youtube video with [detailed explanation](https://www.youtube.com/watch?v=vHKXT0cSI54)"
   ]
  },
  {
   "cell_type": "code",
   "execution_count": 10,
   "metadata": {},
   "outputs": [],
   "source": [
    "pushed = [2,1,0]\n",
    "popped = [1,2,0]"
   ]
  },
  {
   "cell_type": "code",
   "execution_count": 1,
   "metadata": {},
   "outputs": [],
   "source": [
    "pushed = [1,2,3,4,5]\n",
    "popped = [4,5,3,2,1]"
   ]
  },
  {
   "cell_type": "code",
   "execution_count": 12,
   "metadata": {},
   "outputs": [],
   "source": [
    "pushed = [1,0,2]\n",
    "popped = [2,1,0]"
   ]
  },
  {
   "cell_type": "code",
   "execution_count": 14,
   "metadata": {},
   "outputs": [],
   "source": [
    "def validateStackSequences(pushed, popped):\n",
    "    \n",
    "    # initialize an empty stack\n",
    "    stack = list()\n",
    "        \n",
    "    # create a pointer for popped\n",
    "    j = 0\n",
    "    for i in range(len(pushed)):\n",
    "            \n",
    "        # append every element from pushed \n",
    "        stack.append(pushed[i])\n",
    "            \n",
    "        # compare the last element of stack and each element of popped \n",
    "        while stack and stack[-1] == popped[j]:\n",
    "                \n",
    "            # remove the element if they match\n",
    "            stack.pop()\n",
    "                \n",
    "            # increment the pointer\n",
    "            j += 1\n",
    "                \n",
    "    # stack should be empty at the end       \n",
    "    return not stack"
   ]
  },
  {
   "cell_type": "code",
   "execution_count": 15,
   "metadata": {},
   "outputs": [
    {
     "data": {
      "text/plain": [
       "True"
      ]
     },
     "execution_count": 15,
     "metadata": {},
     "output_type": "execute_result"
    }
   ],
   "source": [
    "validateStackSequences(pushed = [2,1,0],\n",
    "popped = [1,2,0])"
   ]
  }
 ],
 "metadata": {
  "kernelspec": {
   "display_name": "Python 3",
   "language": "python",
   "name": "python3"
  },
  "language_info": {
   "codemirror_mode": {
    "name": "ipython",
    "version": 3
   },
   "file_extension": ".py",
   "mimetype": "text/x-python",
   "name": "python",
   "nbconvert_exporter": "python",
   "pygments_lexer": "ipython3",
   "version": "3.8.5"
  }
 },
 "nbformat": 4,
 "nbformat_minor": 4
}
