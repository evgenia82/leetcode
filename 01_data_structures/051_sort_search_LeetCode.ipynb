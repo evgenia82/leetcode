{
 "cells": [
  {
   "cell_type": "markdown",
   "metadata": {},
   "source": [
    "[**1502. Can Make Arithmetic Progression From Sequence**](https://leetcode.com/problems/can-make-arithmetic-progression-from-sequence/)"
   ]
  },
  {
   "cell_type": "code",
   "execution_count": 27,
   "metadata": {},
   "outputs": [],
   "source": [
    "arr = [3,5,1]\n",
    "# Output: true"
   ]
  },
  {
   "cell_type": "code",
   "execution_count": 22,
   "metadata": {},
   "outputs": [],
   "source": [
    "arr = [1,2,4]"
   ]
  },
  {
   "cell_type": "code",
   "execution_count": 14,
   "metadata": {},
   "outputs": [],
   "source": [
    "arr = sorted(arr)"
   ]
  },
  {
   "cell_type": "code",
   "execution_count": 24,
   "metadata": {},
   "outputs": [
    {
     "data": {
      "text/plain": [
       "[1, 2, 4]"
      ]
     },
     "execution_count": 24,
     "metadata": {},
     "output_type": "execute_result"
    }
   ],
   "source": [
    "arr.sort()\n",
    "arr"
   ]
  },
  {
   "cell_type": "code",
   "execution_count": 25,
   "metadata": {},
   "outputs": [],
   "source": [
    "def canMakeArithmeticProgression(arr):\n",
    "#     arr.sort() - sorted() runs faster but doesn't make changes in place\n",
    "    arr = sorted(arr)\n",
    "    pos = 1\n",
    "    diff = abs(arr[1] - arr[0])\n",
    "    while pos < len(arr):\n",
    "        if abs(arr[pos] - arr[pos-1]) != diff:\n",
    "            return False\n",
    "            break\n",
    "        else:\n",
    "            pos += 1\n",
    "    return True"
   ]
  },
  {
   "cell_type": "code",
   "execution_count": 28,
   "metadata": {},
   "outputs": [
    {
     "data": {
      "text/plain": [
       "True"
      ]
     },
     "execution_count": 28,
     "metadata": {},
     "output_type": "execute_result"
    }
   ],
   "source": [
    "canMakeArithmeticProgression(arr)"
   ]
  },
  {
   "cell_type": "markdown",
   "metadata": {},
   "source": [
    "[**1291. Sequential Digits**](https://leetcode.com/problems/sequential-digits/)"
   ]
  },
  {
   "cell_type": "code",
   "execution_count": 36,
   "metadata": {},
   "outputs": [
    {
     "data": {
      "text/plain": [
       "[1234, 2345, 3456, 4567, 5678, 6789, 12345]"
      ]
     },
     "execution_count": 36,
     "metadata": {},
     "output_type": "execute_result"
    }
   ],
   "source": [
    "# brute-force solution\n",
    "low = 1000\n",
    "high = 13000\n",
    "\n",
    "all_nums = [12,23,34,45,56,67,78,89,\n",
    "            123,234,345,456,567,678,789,\n",
    "            1234,2345,3456,4567,5678,6789,\n",
    "            12345,23456,34567,45678,56789,\n",
    "            123456,234567,345678,456789,\n",
    "            1234567,2345678,3456789,\n",
    "            12345678,23456789,\n",
    "            123456789]\n",
    "\n",
    "output = []\n",
    "for num in all_nums:\n",
    "    if num >= low and num <= high:\n",
    "        output.append(num)\n",
    "output"
   ]
  },
  {
   "cell_type": "code",
   "execution_count": 38,
   "metadata": {},
   "outputs": [
    {
     "name": "stdout",
     "output_type": "stream",
     "text": [
      "deque([1, 2, 3, 4, 5, 6, 7, 8, 9])\n"
     ]
    },
    {
     "data": {
      "text/plain": [
       "[1234, 2345, 3456, 4567, 5678, 6789, 12345]"
      ]
     },
     "execution_count": 38,
     "metadata": {},
     "output_type": "execute_result"
    }
   ],
   "source": [
    "# https://leetcode.com/problems/sequential-digits/discuss/853592/Python-Solution-using-queue-explained\n",
    "\n",
    "from collections import deque\n",
    "out = []\n",
    "queue = deque(range(1,10))\n",
    "print(queue)\n",
    "while queue:\n",
    "    elem = queue.popleft()\n",
    "    if low <= elem <= high:\n",
    "        out.append(elem)\n",
    "    last = elem % 10\n",
    "        \n",
    "    if last < 9: \n",
    "        queue.append(elem*10 + last + 1)\n",
    "out"
   ]
  },
  {
   "cell_type": "markdown",
   "metadata": {},
   "source": [
    "[**35. Search Insert Position**](https://leetcode.com/problems/search-insert-position/)"
   ]
  },
  {
   "cell_type": "code",
   "execution_count": 21,
   "metadata": {},
   "outputs": [],
   "source": [
    "nums = [1,3,5,6]\n",
    "target = 2"
   ]
  },
  {
   "cell_type": "code",
   "execution_count": 22,
   "metadata": {},
   "outputs": [],
   "source": [
    "def searchInsert(nums, target):\n",
    "    first = 0\n",
    "    last = len(nums) - 1\n",
    "    while first <= last:\n",
    "        mid = (first+last)//2\n",
    "        if nums[mid] == target:\n",
    "            return mid\n",
    "        else:\n",
    "            if target < nums[mid]:\n",
    "                last = mid - 1\n",
    "            else:\n",
    "                first = mid + 1\n",
    "    # (1) At this point, low > high. That is, low >= high+1\n",
    "    # (2) From the invariant, we know that the index is between [low, high+1], so low <= high+1. \n",
    "    # Follwing from (1), now we know low == high+1.\n",
    "    # (3) Following from (2), the index is between [low, high+1] = [low, low], which means that low is the desired index\n",
    "    # (4) Therefore, we return low as the answer. You can also return high+1 as the result, since low == high+1\n",
    "    return first"
   ]
  },
  {
   "cell_type": "code",
   "execution_count": 23,
   "metadata": {},
   "outputs": [
    {
     "data": {
      "text/plain": [
       "1"
      ]
     },
     "execution_count": 23,
     "metadata": {},
     "output_type": "execute_result"
    }
   ],
   "source": [
    "searchInsert(nums, target)"
   ]
  },
  {
   "cell_type": "code",
   "execution_count": 31,
   "metadata": {},
   "outputs": [],
   "source": [
    "s = \"Myself2 Me1 I4 and3\""
   ]
  },
  {
   "cell_type": "markdown",
   "metadata": {},
   "source": [
    "[**33. Search in Rotated Sorted Array**](https://leetcode.com/problems/search-in-rotated-sorted-array/)"
   ]
  },
  {
   "cell_type": "code",
   "execution_count": null,
   "metadata": {},
   "outputs": [],
   "source": [
    "# based on binary search\n",
    "# great explanation \n",
    "# https://leetcode.com/problems/search-in-rotated-sorted-array/discuss/14435/Clever-idea-making-it-simple\n",
    "# https://leetcode.com/problems/search-in-rotated-sorted-array/discuss/14437/Python-binary-search-solution-O(logn)-48ms\n",
    "def search(nums, target):\n",
    "    first = 0\n",
    "    last = len(nums) - 1\n",
    "        \n",
    "    while first <= last:\n",
    "            \n",
    "        mid = (first+last)//2\n",
    "        if nums[mid] == target:\n",
    "            return mid\n",
    "            \n",
    "        if nums[first] <= nums[mid]:\n",
    "            if nums[first]<=target<=nums[mid]:\n",
    "                last = mid -1\n",
    "            else:\n",
    "                first = mid+1\n",
    "        else:\n",
    "            if nums[mid]<=target<=nums[last]:\n",
    "                first = mid+1\n",
    "            else: \n",
    "                    last = mid -1\n",
    "    return -1"
   ]
  },
  {
   "cell_type": "markdown",
   "metadata": {},
   "source": [
    "[**1859. Sorting the Sentence**](https://leetcode.com/problems/sorting-the-sentence/)"
   ]
  },
  {
   "cell_type": "code",
   "execution_count": 34,
   "metadata": {},
   "outputs": [
    {
     "data": {
      "text/plain": [
       "['Myself2', 'Me1', 'I4', 'and3']"
      ]
     },
     "execution_count": 34,
     "metadata": {},
     "output_type": "execute_result"
    }
   ],
   "source": [
    "words = s.split(\" \")\n",
    "words"
   ]
  },
  {
   "cell_type": "code",
   "execution_count": 35,
   "metadata": {},
   "outputs": [
    {
     "data": {
      "text/plain": [
       "'Me Myself and I'"
      ]
     },
     "execution_count": 35,
     "metadata": {},
     "output_type": "execute_result"
    }
   ],
   "source": [
    "ans = [None] * len(words)\n",
    "for word in words:\n",
    "    ans[int(word[-1]) - 1] = word[:-1]\n",
    "\" \".join(ans)"
   ]
  },
  {
   "cell_type": "markdown",
   "metadata": {},
   "source": [
    "[**922. Sort Array By Parity II**](https://leetcode.com/problems/sort-array-by-parity-ii/)"
   ]
  },
  {
   "cell_type": "code",
   "execution_count": 7,
   "metadata": {},
   "outputs": [],
   "source": [
    "nums = [4,2,5,7]\n",
    "# output [4,5,2,7]"
   ]
  },
  {
   "cell_type": "code",
   "execution_count": 8,
   "metadata": {},
   "outputs": [
    {
     "data": {
      "text/plain": [
       "[4, 5, 2, 7]"
      ]
     },
     "execution_count": 8,
     "metadata": {},
     "output_type": "execute_result"
    }
   ],
   "source": [
    "idx_even = 0\n",
    "idx_odd = 1\n",
    "while idx_even < len(nums) and idx_odd < len(nums):\n",
    "    \n",
    "    # check if a number placed correcly and jump to the next odd index\n",
    "    if nums[idx_even] %2 == 0:\n",
    "        idx_even += 2\n",
    "    elif nums[idx_odd] %2 == 1:\n",
    "        idx_odd += 2\n",
    "    else:\n",
    "        # when the number placed incorrecly - swap it \n",
    "        nums[idx_even], nums[idx_odd] =  nums[idx_odd], nums[idx_even] \n",
    "        idx_even += 2\n",
    "        idx_odd += 2\n",
    "    \n",
    "    \n",
    "nums\n",
    "                "
   ]
  },
  {
   "cell_type": "markdown",
   "metadata": {},
   "source": [
    "[**1814. Count Nice Pairs in an Array**](https://leetcode.com/problems/count-nice-pairs-in-an-array/)"
   ]
  },
  {
   "cell_type": "code",
   "execution_count": 20,
   "metadata": {},
   "outputs": [
    {
     "data": {
      "text/plain": [
       "1"
      ]
     },
     "execution_count": 20,
     "metadata": {},
     "output_type": "execute_result"
    }
   ],
   "source": [
    "nums = [13, 10, 35, 24, 76]\n",
    "int(str(10)[::-1])"
   ]
  },
  {
   "cell_type": "code",
   "execution_count": 21,
   "metadata": {},
   "outputs": [
    {
     "data": {
      "text/plain": [
       "4"
      ]
     },
     "execution_count": 21,
     "metadata": {},
     "output_type": "execute_result"
    }
   ],
   "source": [
    "# straightforward solution doesn't pass all the cases\n",
    "results = list()\n",
    "for i in range(len(nums)):\n",
    "    for j in range(len(nums)):\n",
    "        if nums[i] + int(str(nums[j])[::-1]) == int(str(nums[i])[::-1]) + nums[j]:\n",
    "            results.append((i,j))\n",
    "len(results)//3\n",
    "        "
   ]
  },
  {
   "cell_type": "code",
   "execution_count": 25,
   "metadata": {},
   "outputs": [
    {
     "name": "stdout",
     "output_type": "stream",
     "text": [
      "{-18: 3, 9: 2}\n"
     ]
    },
    {
     "data": {
      "text/plain": [
       "[3, 1]"
      ]
     },
     "execution_count": 25,
     "metadata": {},
     "output_type": "execute_result"
    }
   ],
   "source": [
    "d = {}\n",
    "for n in nums:\n",
    "    diff = n-int(str(n)[::-1])\n",
    "    d[diff] = d.get(diff, 0)+1\n",
    "# sum([d[x]*(d[x]-1)//2 for x in d])%(10**9+7)\n",
    "print(d)\n",
    "[d[x]*(d[x]-1)//2 for x in d]"
   ]
  },
  {
   "cell_type": "code",
   "execution_count": null,
   "metadata": {},
   "outputs": [],
   "source": []
  }
 ],
 "metadata": {
  "kernelspec": {
   "display_name": "Python 3",
   "language": "python",
   "name": "python3"
  },
  "language_info": {
   "codemirror_mode": {
    "name": "ipython",
    "version": 3
   },
   "file_extension": ".py",
   "mimetype": "text/x-python",
   "name": "python",
   "nbconvert_exporter": "python",
   "pygments_lexer": "ipython3",
   "version": "3.8.5"
  }
 },
 "nbformat": 4,
 "nbformat_minor": 4
}
