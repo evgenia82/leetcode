{
 "cells": [
  {
   "cell_type": "markdown",
   "metadata": {},
   "source": [
    "### Node Implementation\n",
    "\n",
    "The node is where data is stored in the linked list. Along with the data each node also holds a pointer, which is a reference to the next node in the list. Below is a simple implementation.\n",
    "\n",
    "[Source code John Shiver](https://www.codefellows.org/blog/implementing-a-singly-linked-list-in-python/)"
   ]
  },
  {
   "cell_type": "code",
   "execution_count": 1,
   "metadata": {},
   "outputs": [],
   "source": [
    "class Node(object):\n",
    "    \n",
    "    def __init__(self, data = None, next_node = None):\n",
    "        self.data = data\n",
    "        self.next_node = next_node\n",
    "        \n",
    "    def __repr__(self):\n",
    "        \"\"\"Return a string representation of this node.\"\"\"\n",
    "        return 'Node({!r})'.format(self.data)\n",
    "        \n",
    "    def get_data(self):\n",
    "        return self.data\n",
    "    \n",
    "    def get_next(self):\n",
    "        return self.next_node\n",
    "    \n",
    "    def set_next(self, new_next):\n",
    "        self.next_node = new_next"
   ]
  },
  {
   "cell_type": "markdown",
   "metadata": {},
   "source": [
    "### Singly Linked List Implementation"
   ]
  },
  {
   "cell_type": "code",
   "execution_count": 2,
   "metadata": {},
   "outputs": [],
   "source": [
    "# needs correction!! doesn't work propperly\n",
    "class LinkedList(object):\n",
    "    \n",
    "    def __init__(self, head=None):\n",
    "        self.head = head\n",
    "      \n",
    "    \n",
    "    def insert(self, data):\n",
    "        new_node = Node(data)\n",
    "        new_node.set_next(self.head)\n",
    "        self.head = new_node\n",
    "       \n",
    "    \n",
    "    def size(self):\n",
    "        current = self.head\n",
    "        count = 0\n",
    "        while current:\n",
    "            count += 1\n",
    "            current = current.get_next()\n",
    "        return count\n",
    "    \n",
    "    \n",
    "    def search(self, data):\n",
    "        \n",
    "        current = self.head\n",
    "        found = False\n",
    "        \n",
    "        while current and found is False:\n",
    "            if current.get_data() == data:\n",
    "                found = True\n",
    "            else:\n",
    "                current = current.get_next()\n",
    "                \n",
    "        if current is None:\n",
    "            raise ValueError(\"Data not in list\")\n",
    "        return current\n",
    "    \n",
    "    def delete(self, data):\n",
    "        current = self.head\n",
    "        previous = None\n",
    "        found = False\n",
    "        while current and found is False:\n",
    "            if current.get_data() == data:\n",
    "                found = True\n",
    "            else:\n",
    "                previous = current\n",
    "                current = current.get_next()\n",
    "        if current is None:\n",
    "            raise ValueError(\"Data not in list\")\n",
    "        if previous is None:\n",
    "            self.head = current.get_next()\n",
    "        else:\n",
    "            previous.set_next(current.get_next())"
   ]
  },
  {
   "cell_type": "code",
   "execution_count": 3,
   "metadata": {},
   "outputs": [],
   "source": [
    "linked_list = LinkedList(11)"
   ]
  },
  {
   "cell_type": "code",
   "execution_count": 5,
   "metadata": {},
   "outputs": [
    {
     "data": {
      "text/plain": [
       "11"
      ]
     },
     "execution_count": 5,
     "metadata": {},
     "output_type": "execute_result"
    }
   ],
   "source": [
    "linked_list.head"
   ]
  },
  {
   "cell_type": "code",
   "execution_count": 6,
   "metadata": {},
   "outputs": [],
   "source": [
    "linked_list.insert(14)"
   ]
  },
  {
   "cell_type": "code",
   "execution_count": 7,
   "metadata": {},
   "outputs": [],
   "source": [
    "linked_list.insert(12)"
   ]
  },
  {
   "cell_type": "code",
   "execution_count": 8,
   "metadata": {},
   "outputs": [],
   "source": [
    "linked_list.insert(21)"
   ]
  },
  {
   "cell_type": "code",
   "execution_count": 14,
   "metadata": {},
   "outputs": [],
   "source": [
    "# print(linked_list.size())"
   ]
  },
  {
   "cell_type": "markdown",
   "metadata": {},
   "source": [
    "[**141. Linked List Cycle**](https://leetcode.com/problems/linked-list-cycle/)"
   ]
  },
  {
   "cell_type": "code",
   "execution_count": 2,
   "metadata": {},
   "outputs": [],
   "source": [
    "# Definition for singly-linked list.\n",
    "class ListNode:\n",
    "    def __init__(self, x):\n",
    "        self.val = x\n",
    "        self.next = None\n",
    "\n",
    "class Solution:\n",
    "    def hasCycle(self, head: ListNode) -> bool:\n",
    "        marker1 = head\n",
    "        marker2 = head\n",
    "        \n",
    "        while marker2 != None and marker2.next != None:\n",
    "            marker1 = marker1.next\n",
    "            marker2 = marker2.next.next\n",
    "            \n",
    "            if marker1 == marker2:\n",
    "                return True\n",
    "        return False"
   ]
  },
  {
   "cell_type": "code",
   "execution_count": null,
   "metadata": {},
   "outputs": [],
   "source": []
  }
 ],
 "metadata": {
  "kernelspec": {
   "display_name": "Python 3",
   "language": "python",
   "name": "python3"
  },
  "language_info": {
   "codemirror_mode": {
    "name": "ipython",
    "version": 3
   },
   "file_extension": ".py",
   "mimetype": "text/x-python",
   "name": "python",
   "nbconvert_exporter": "python",
   "pygments_lexer": "ipython3",
   "version": "3.8.5"
  }
 },
 "nbformat": 4,
 "nbformat_minor": 4
}
