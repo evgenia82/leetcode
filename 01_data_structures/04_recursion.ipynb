{
 "cells": [
  {
   "cell_type": "markdown",
   "metadata": {},
   "source": [
    "[**322. Coin Change**](https://leetcode.com/problems/coin-change/)"
   ]
  },
  {
   "cell_type": "code",
   "execution_count": 4,
   "metadata": {},
   "outputs": [],
   "source": [
    "# doesn't account for all cases on LeetCode - needs improvement\n",
    "def coinChange(coins, amount):\n",
    "    # Default to target value\n",
    "    min_coins = amount\n",
    "\n",
    "    # Check to see if we have a single coin match (BASE CASE)\n",
    "    if amount in coins:\n",
    "        return 1\n",
    "\n",
    "    else:\n",
    "\n",
    "        # for every coin value that is <= than target\n",
    "        for i in [c for c in coins if c <= amount]:\n",
    "\n",
    "            # Recursive Call (add a count coin and subtract from the amount) \n",
    "            num_coins = 1 + coinChange(coins, amount-i)\n",
    "\n",
    "            # Reset Minimum if we have a new minimum\n",
    "            if num_coins < min_coins:\n",
    "\n",
    "                min_coins = num_coins\n",
    "\n",
    "    return min_coins"
   ]
  },
  {
   "cell_type": "code",
   "execution_count": 5,
   "metadata": {},
   "outputs": [
    {
     "data": {
      "text/plain": [
       "6"
      ]
     },
     "execution_count": 5,
     "metadata": {},
     "output_type": "execute_result"
    }
   ],
   "source": [
    "coinChange([1,5,10,25], 63)"
   ]
  },
  {
   "cell_type": "code",
   "execution_count": null,
   "metadata": {},
   "outputs": [],
   "source": []
  }
 ],
 "metadata": {
  "kernelspec": {
   "display_name": "Python 3",
   "language": "python",
   "name": "python3"
  },
  "language_info": {
   "codemirror_mode": {
    "name": "ipython",
    "version": 3
   },
   "file_extension": ".py",
   "mimetype": "text/x-python",
   "name": "python",
   "nbconvert_exporter": "python",
   "pygments_lexer": "ipython3",
   "version": "3.8.5"
  }
 },
 "nbformat": 4,
 "nbformat_minor": 4
}
