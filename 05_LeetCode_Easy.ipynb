{
 "cells": [
  {
   "cell_type": "markdown",
   "metadata": {},
   "source": [
    "[**1089. Duplicate Zeros**](https://leetcode.com/problems/duplicate-zeros/)"
   ]
  },
  {
   "cell_type": "markdown",
   "metadata": {},
   "source": [
    "[**1869. Longer Contiguous Segments of Ones than Zeros**](https://leetcode.com/problems/longer-contiguous-segments-of-ones-than-zeros/)"
   ]
  },
  {
   "cell_type": "code",
   "execution_count": 11,
   "metadata": {},
   "outputs": [],
   "source": [
    "s = \"110100010\""
   ]
  },
  {
   "cell_type": "code",
   "execution_count": 13,
   "metadata": {},
   "outputs": [
    {
     "name": "stdout",
     "output_type": "stream",
     "text": [
      "2 3\n"
     ]
    },
    {
     "data": {
      "text/plain": [
       "False"
      ]
     },
     "execution_count": 13,
     "metadata": {},
     "output_type": "execute_result"
    }
   ],
   "source": [
    "count_0, max_0 = 0, 0\n",
    "count_1, max_1 = 0, 0\n",
    "for i in range(len(s)):\n",
    "    if s[i] == '0':\n",
    "        count_0 += 1\n",
    "        count_1 = 0\n",
    "        max_0 = max(max_0, count_0)\n",
    "    else:\n",
    "        count_1 += 1\n",
    "        count_0 = 0\n",
    "        max_1 = max(max_1, count_1)\n",
    "print(max_1, max_0)        \n",
    "max_1 > max_0        "
   ]
  },
  {
   "cell_type": "code",
   "execution_count": 15,
   "metadata": {},
   "outputs": [
    {
     "name": "stdout",
     "output_type": "stream",
     "text": [
      "2 3\n"
     ]
    },
    {
     "data": {
      "text/plain": [
       "False"
      ]
     },
     "execution_count": 15,
     "metadata": {},
     "output_type": "execute_result"
    }
   ],
   "source": [
    "longest_ones, longest_zeros = 0, 0\n",
    "ones, zeros = 0, 0\n",
    "previous = None\n",
    "for c in s:\n",
    "    if c == '0':\n",
    "        zeros += 1\n",
    "        if previous == '1':\n",
    "            longest_ones, ones = max(longest_ones, ones), 0\n",
    "    else:\n",
    "        ones += 1\n",
    "        if previous == '0':\n",
    "            longest_zeros, zeros = max(longest_zeros, zeros), 0\n",
    "    previous = c        \n",
    "longest_ones = max(longest_ones, ones)\n",
    "longest_zeros = max(longest_zeros, zeros)\n",
    "print(longest_ones, longest_zeros)\n",
    "longest_ones > longest_zeros"
   ]
  },
  {
   "cell_type": "markdown",
   "metadata": {},
   "source": [
    "[**485. Max Consecutive Ones**](https://leetcode.com/problems/max-consecutive-ones/)"
   ]
  },
  {
   "cell_type": "code",
   "execution_count": 17,
   "metadata": {},
   "outputs": [],
   "source": [
    "def findMaxConsecutiveOnes(nums):\n",
    "    count_1, max_1 = 0, 0\n",
    "    for num in nums:\n",
    "        if num == 1:\n",
    "            count_1 += 1\n",
    "            max_1 = max(max_1, count_1)\n",
    "        else:\n",
    "            count_1 = 0\n",
    "                    \n",
    "    return max_1"
   ]
  },
  {
   "cell_type": "code",
   "execution_count": 18,
   "metadata": {},
   "outputs": [
    {
     "data": {
      "text/plain": [
       "3"
      ]
     },
     "execution_count": 18,
     "metadata": {},
     "output_type": "execute_result"
    }
   ],
   "source": [
    "nums = [1,1,0,1,1,1]\n",
    "findMaxConsecutiveOnes(nums)"
   ]
  },
  {
   "cell_type": "code",
   "execution_count": null,
   "metadata": {},
   "outputs": [],
   "source": []
  }
 ],
 "metadata": {
  "kernelspec": {
   "display_name": "Python 3",
   "language": "python",
   "name": "python3"
  },
  "language_info": {
   "codemirror_mode": {
    "name": "ipython",
    "version": 3
   },
   "file_extension": ".py",
   "mimetype": "text/x-python",
   "name": "python",
   "nbconvert_exporter": "python",
   "pygments_lexer": "ipython3",
   "version": "3.8.5"
  }
 },
 "nbformat": 4,
 "nbformat_minor": 4
}
