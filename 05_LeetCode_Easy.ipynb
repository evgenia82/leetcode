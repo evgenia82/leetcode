{
 "cells": [
  {
   "cell_type": "markdown",
   "metadata": {},
   "source": [
    "[**1089. Duplicate Zeros**](https://leetcode.com/problems/duplicate-zeros/)"
   ]
  },
  {
   "cell_type": "markdown",
   "metadata": {},
   "source": [
    "[**1869. Longer Contiguous Segments of Ones than Zeros**](https://leetcode.com/problems/longer-contiguous-segments-of-ones-than-zeros/)"
   ]
  },
  {
   "cell_type": "code",
   "execution_count": 11,
   "metadata": {},
   "outputs": [],
   "source": [
    "s = \"110100010\""
   ]
  },
  {
   "cell_type": "code",
   "execution_count": 13,
   "metadata": {},
   "outputs": [
    {
     "name": "stdout",
     "output_type": "stream",
     "text": [
      "2 3\n"
     ]
    },
    {
     "data": {
      "text/plain": [
       "False"
      ]
     },
     "execution_count": 13,
     "metadata": {},
     "output_type": "execute_result"
    }
   ],
   "source": [
    "count_0, max_0 = 0, 0\n",
    "count_1, max_1 = 0, 0\n",
    "for i in range(len(s)):\n",
    "    if s[i] == '0':\n",
    "        count_0 += 1\n",
    "        count_1 = 0\n",
    "        max_0 = max(max_0, count_0)\n",
    "    else:\n",
    "        count_1 += 1\n",
    "        count_0 = 0\n",
    "        max_1 = max(max_1, count_1)\n",
    "print(max_1, max_0)        \n",
    "max_1 > max_0        "
   ]
  },
  {
   "cell_type": "code",
   "execution_count": 15,
   "metadata": {},
   "outputs": [
    {
     "name": "stdout",
     "output_type": "stream",
     "text": [
      "2 3\n"
     ]
    },
    {
     "data": {
      "text/plain": [
       "False"
      ]
     },
     "execution_count": 15,
     "metadata": {},
     "output_type": "execute_result"
    }
   ],
   "source": [
    "longest_ones, longest_zeros = 0, 0\n",
    "ones, zeros = 0, 0\n",
    "previous = None\n",
    "for c in s:\n",
    "    if c == '0':\n",
    "        zeros += 1\n",
    "        if previous == '1':\n",
    "            longest_ones, ones = max(longest_ones, ones), 0\n",
    "    else:\n",
    "        ones += 1\n",
    "        if previous == '0':\n",
    "            longest_zeros, zeros = max(longest_zeros, zeros), 0\n",
    "    previous = c        \n",
    "longest_ones = max(longest_ones, ones)\n",
    "longest_zeros = max(longest_zeros, zeros)\n",
    "print(longest_ones, longest_zeros)\n",
    "longest_ones > longest_zeros"
   ]
  },
  {
   "cell_type": "markdown",
   "metadata": {},
   "source": [
    "[**485. Max Consecutive Ones**](https://leetcode.com/problems/max-consecutive-ones/)"
   ]
  },
  {
   "cell_type": "code",
   "execution_count": 17,
   "metadata": {},
   "outputs": [],
   "source": [
    "def findMaxConsecutiveOnes(nums):\n",
    "    count_1, max_1 = 0, 0\n",
    "    for num in nums:\n",
    "        if num == 1:\n",
    "            count_1 += 1\n",
    "            max_1 = max(max_1, count_1)\n",
    "        else:\n",
    "            count_1 = 0\n",
    "                    \n",
    "    return max_1"
   ]
  },
  {
   "cell_type": "code",
   "execution_count": 18,
   "metadata": {},
   "outputs": [
    {
     "data": {
      "text/plain": [
       "3"
      ]
     },
     "execution_count": 18,
     "metadata": {},
     "output_type": "execute_result"
    }
   ],
   "source": [
    "nums = [1,1,0,1,1,1]\n",
    "findMaxConsecutiveOnes(nums)"
   ]
  },
  {
   "cell_type": "markdown",
   "metadata": {},
   "source": [
    "[**1446. Consecutive Characters**](https://leetcode.com/problems/consecutive-characters/)"
   ]
  },
  {
   "cell_type": "code",
   "execution_count": 1,
   "metadata": {},
   "outputs": [],
   "source": [
    "s = \"abbcccddddeeeeedcba\""
   ]
  },
  {
   "cell_type": "code",
   "execution_count": 2,
   "metadata": {},
   "outputs": [
    {
     "data": {
      "text/plain": [
       "5"
      ]
     },
     "execution_count": 2,
     "metadata": {},
     "output_type": "execute_result"
    }
   ],
   "source": [
    "count, max_char = 1, 1\n",
    "for i in range(len(s)-1):\n",
    "    if s[i] == s[i+1]:\n",
    "        # increase the counter by 1 if current char same as the previous one\n",
    "        count += 1\n",
    "        max_char = max(max_char, count)\n",
    "    else:\n",
    "        # otherwise, reset the counter to 1\n",
    "        count = 1\n",
    "max_char\n",
    "        "
   ]
  },
  {
   "cell_type": "markdown",
   "metadata": {},
   "source": [
    "[**1576. Replace All ?`s to Avoid Consecutive Repeating Characters**](https://leetcode.com/problems/replace-all-s-to-avoid-consecutive-repeating-characters/)"
   ]
  },
  {
   "cell_type": "code",
   "execution_count": 19,
   "metadata": {},
   "outputs": [],
   "source": [
    "s = \"??yw?ipkj?\""
   ]
  },
  {
   "cell_type": "code",
   "execution_count": 18,
   "metadata": {},
   "outputs": [
    {
     "name": "stdout",
     "output_type": "stream",
     "text": [
      "w\n"
     ]
    },
    {
     "data": {
      "text/plain": [
       "'wwywwipkjw'"
      ]
     },
     "execution_count": 18,
     "metadata": {},
     "output_type": "execute_result"
    }
   ],
   "source": [
    "# my solution doesn't work correctly\n",
    "import string\n",
    "import random\n",
    "\n",
    "for i in range(len(s)):\n",
    "    if s[i] == '?':\n",
    "        replacement = random.choice(string.ascii_lowercase)\n",
    "        print(replacement)\n",
    "        if (i == 0 or s[i-1] != replacement) and (i+1 == len(s) or s[i+1] != replacement):\n",
    "            s = s.replace(s[i], replacement)\n",
    "            break\n",
    "            \n",
    "\"\".join(s)"
   ]
  },
  {
   "cell_type": "code",
   "execution_count": 20,
   "metadata": {},
   "outputs": [
    {
     "data": {
      "text/plain": [
       "'abywaipkja'"
      ]
     },
     "execution_count": 20,
     "metadata": {},
     "output_type": "execute_result"
    }
   ],
   "source": [
    "# working solution\n",
    "s = list(s)\n",
    "for i in range(len(s)):\n",
    "    if s[i] == \"?\": \n",
    "        for c in \"abc\": \n",
    "            if (i == 0 or s[i-1] != c) and (i+1 == len(s) or s[i+1] != c): \n",
    "                s[i] = c\n",
    "                break \n",
    "\"\".join(s)"
   ]
  },
  {
   "cell_type": "code",
   "execution_count": null,
   "metadata": {},
   "outputs": [],
   "source": []
  }
 ],
 "metadata": {
  "kernelspec": {
   "display_name": "Python 3",
   "language": "python",
   "name": "python3"
  },
  "language_info": {
   "codemirror_mode": {
    "name": "ipython",
    "version": 3
   },
   "file_extension": ".py",
   "mimetype": "text/x-python",
   "name": "python",
   "nbconvert_exporter": "python",
   "pygments_lexer": "ipython3",
   "version": "3.8.5"
  }
 },
 "nbformat": 4,
 "nbformat_minor": 4
}
