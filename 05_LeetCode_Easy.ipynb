{
 "cells": [
  {
   "cell_type": "markdown",
   "metadata": {},
   "source": [
    "[**1089. Duplicate Zeros**](https://leetcode.com/problems/duplicate-zeros/)"
   ]
  },
  {
   "cell_type": "markdown",
   "metadata": {},
   "source": [
    "[**1869. Longer Contiguous Segments of Ones than Zeros**](https://leetcode.com/problems/longer-contiguous-segments-of-ones-than-zeros/)"
   ]
  },
  {
   "cell_type": "code",
   "execution_count": 11,
   "metadata": {},
   "outputs": [],
   "source": [
    "s = \"110100010\""
   ]
  },
  {
   "cell_type": "code",
   "execution_count": 13,
   "metadata": {},
   "outputs": [
    {
     "name": "stdout",
     "output_type": "stream",
     "text": [
      "2 3\n"
     ]
    },
    {
     "data": {
      "text/plain": [
       "False"
      ]
     },
     "execution_count": 13,
     "metadata": {},
     "output_type": "execute_result"
    }
   ],
   "source": [
    "count_0, max_0 = 0, 0\n",
    "count_1, max_1 = 0, 0\n",
    "for i in range(len(s)):\n",
    "    if s[i] == '0':\n",
    "        count_0 += 1\n",
    "        count_1 = 0\n",
    "        max_0 = max(max_0, count_0)\n",
    "    else:\n",
    "        count_1 += 1\n",
    "        count_0 = 0\n",
    "        max_1 = max(max_1, count_1)\n",
    "print(max_1, max_0)        \n",
    "max_1 > max_0        "
   ]
  },
  {
   "cell_type": "code",
   "execution_count": 15,
   "metadata": {},
   "outputs": [
    {
     "name": "stdout",
     "output_type": "stream",
     "text": [
      "2 3\n"
     ]
    },
    {
     "data": {
      "text/plain": [
       "False"
      ]
     },
     "execution_count": 15,
     "metadata": {},
     "output_type": "execute_result"
    }
   ],
   "source": [
    "longest_ones, longest_zeros = 0, 0\n",
    "ones, zeros = 0, 0\n",
    "previous = None\n",
    "for c in s:\n",
    "    if c == '0':\n",
    "        zeros += 1\n",
    "        if previous == '1':\n",
    "            longest_ones, ones = max(longest_ones, ones), 0\n",
    "    else:\n",
    "        ones += 1\n",
    "        if previous == '0':\n",
    "            longest_zeros, zeros = max(longest_zeros, zeros), 0\n",
    "    previous = c        \n",
    "longest_ones = max(longest_ones, ones)\n",
    "longest_zeros = max(longest_zeros, zeros)\n",
    "print(longest_ones, longest_zeros)\n",
    "longest_ones > longest_zeros"
   ]
  },
  {
   "cell_type": "markdown",
   "metadata": {},
   "source": [
    "[**485. Max Consecutive Ones**](https://leetcode.com/problems/max-consecutive-ones/)"
   ]
  },
  {
   "cell_type": "code",
   "execution_count": 17,
   "metadata": {},
   "outputs": [],
   "source": [
    "def findMaxConsecutiveOnes(nums):\n",
    "    count_1, max_1 = 0, 0\n",
    "    for num in nums:\n",
    "        if num == 1:\n",
    "            count_1 += 1\n",
    "            max_1 = max(max_1, count_1)\n",
    "        else:\n",
    "            count_1 = 0\n",
    "                    \n",
    "    return max_1"
   ]
  },
  {
   "cell_type": "code",
   "execution_count": 18,
   "metadata": {},
   "outputs": [
    {
     "data": {
      "text/plain": [
       "3"
      ]
     },
     "execution_count": 18,
     "metadata": {},
     "output_type": "execute_result"
    }
   ],
   "source": [
    "nums = [1,1,0,1,1,1]\n",
    "findMaxConsecutiveOnes(nums)"
   ]
  },
  {
   "cell_type": "markdown",
   "metadata": {},
   "source": [
    "[**1446. Consecutive Characters**](https://leetcode.com/problems/consecutive-characters/)"
   ]
  },
  {
   "cell_type": "code",
   "execution_count": 1,
   "metadata": {},
   "outputs": [],
   "source": [
    "s = \"abbcccddddeeeeedcba\""
   ]
  },
  {
   "cell_type": "code",
   "execution_count": 2,
   "metadata": {},
   "outputs": [
    {
     "data": {
      "text/plain": [
       "5"
      ]
     },
     "execution_count": 2,
     "metadata": {},
     "output_type": "execute_result"
    }
   ],
   "source": [
    "count, max_char = 1, 1\n",
    "for i in range(len(s)-1):\n",
    "    if s[i] == s[i+1]:\n",
    "        # increase the counter by 1 if current char same as the previous one\n",
    "        count += 1\n",
    "        max_char = max(max_char, count)\n",
    "    else:\n",
    "        # otherwise, reset the counter to 1\n",
    "        count = 1\n",
    "max_char\n",
    "        "
   ]
  },
  {
   "cell_type": "markdown",
   "metadata": {},
   "source": [
    "[**1576. Replace All ?`s to Avoid Consecutive Repeating Characters**](https://leetcode.com/problems/replace-all-s-to-avoid-consecutive-repeating-characters/)"
   ]
  },
  {
   "cell_type": "code",
   "execution_count": 19,
   "metadata": {},
   "outputs": [],
   "source": [
    "s = \"??yw?ipkj?\""
   ]
  },
  {
   "cell_type": "code",
   "execution_count": 18,
   "metadata": {},
   "outputs": [
    {
     "name": "stdout",
     "output_type": "stream",
     "text": [
      "w\n"
     ]
    },
    {
     "data": {
      "text/plain": [
       "'wwywwipkjw'"
      ]
     },
     "execution_count": 18,
     "metadata": {},
     "output_type": "execute_result"
    }
   ],
   "source": [
    "# my solution doesn't work correctly\n",
    "import string\n",
    "import random\n",
    "\n",
    "for i in range(len(s)):\n",
    "    if s[i] == '?':\n",
    "        replacement = random.choice(string.ascii_lowercase)\n",
    "        print(replacement)\n",
    "        if (i == 0 or s[i-1] != replacement) and (i+1 == len(s) or s[i+1] != replacement):\n",
    "            s = s.replace(s[i], replacement)\n",
    "            break\n",
    "            \n",
    "\"\".join(s)"
   ]
  },
  {
   "cell_type": "code",
   "execution_count": 20,
   "metadata": {},
   "outputs": [
    {
     "data": {
      "text/plain": [
       "'abywaipkja'"
      ]
     },
     "execution_count": 20,
     "metadata": {},
     "output_type": "execute_result"
    }
   ],
   "source": [
    "# working solution\n",
    "s = list(s)\n",
    "for i in range(len(s)):\n",
    "    if s[i] == \"?\": \n",
    "        for c in \"abc\": \n",
    "            if (i == 0 or s[i-1] != c) and (i+1 == len(s) or s[i+1] != c): \n",
    "                s[i] = c\n",
    "                break \n",
    "\"\".join(s)"
   ]
  },
  {
   "cell_type": "markdown",
   "metadata": {},
   "source": [
    "[**1185. Day of the Week**](https://leetcode.com/problems/day-of-the-week/)"
   ]
  },
  {
   "cell_type": "code",
   "execution_count": 135,
   "metadata": {},
   "outputs": [],
   "source": [
    "date = \"20th Oct 2052\""
   ]
  },
  {
   "cell_type": "code",
   "execution_count": 128,
   "metadata": {},
   "outputs": [],
   "source": [
    "date = \"6th Jun 1933\""
   ]
  },
  {
   "cell_type": "code",
   "execution_count": 136,
   "metadata": {},
   "outputs": [],
   "source": [
    "month_dict = {\"Jan\":1, \"Feb\":2, \"Mar\":3, \"Apr\":4, \"May\":5, \"Jun\":6, \"Jul\":7, \"Aug\":8, \"Sep\":9, \"Oct\":10,\n",
    "              \"Nov\":11, \"Dec\":12}"
   ]
  },
  {
   "cell_type": "code",
   "execution_count": 137,
   "metadata": {},
   "outputs": [
    {
     "data": {
      "text/plain": [
       "['2052', 'Oct', '20th']"
      ]
     },
     "execution_count": 137,
     "metadata": {},
     "output_type": "execute_result"
    }
   ],
   "source": [
    "my_list = date.split(\" \")[::-1]\n",
    "my_list"
   ]
  },
  {
   "cell_type": "code",
   "execution_count": 138,
   "metadata": {},
   "outputs": [],
   "source": [
    "my_list[2] = str(my_list[2][:-2]) if len(my_list[2][:-2]) >= 2 else str(0) + str(my_list[2][:-2])"
   ]
  },
  {
   "cell_type": "code",
   "execution_count": 139,
   "metadata": {},
   "outputs": [
    {
     "data": {
      "text/plain": [
       "['2052', 'Oct', '20']"
      ]
     },
     "execution_count": 139,
     "metadata": {},
     "output_type": "execute_result"
    }
   ],
   "source": [
    "my_list"
   ]
  },
  {
   "cell_type": "code",
   "execution_count": 140,
   "metadata": {},
   "outputs": [
    {
     "data": {
      "text/plain": [
       "['2052', '10', '20']"
      ]
     },
     "execution_count": 140,
     "metadata": {},
     "output_type": "execute_result"
    }
   ],
   "source": [
    "for k, v in month_dict.items():\n",
    "    if my_list[1] == k:\n",
    "        if v >= 10:\n",
    "            my_list[1] = str(v)\n",
    "        else:\n",
    "            my_list[1] = str(0)+str(v)\n",
    "my_list"
   ]
  },
  {
   "cell_type": "code",
   "execution_count": 141,
   "metadata": {},
   "outputs": [
    {
     "data": {
      "text/plain": [
       "'2052-10-20'"
      ]
     },
     "execution_count": 141,
     "metadata": {},
     "output_type": "execute_result"
    }
   ],
   "source": [
    "\"-\".join(my_list)"
   ]
  },
  {
   "cell_type": "code",
   "execution_count": 166,
   "metadata": {},
   "outputs": [],
   "source": [
    "# optimized month dictionary\n",
    "month_dict = {\"Jan\":\"01\", \"Feb\":\"02\", \"Mar\":\"03\", \"Apr\":\"04\", \"May\":\"05\", \"Jun\":\"06\", \"Jul\":\"07\", \n",
    "              \"Aug\":\"08\", \"Sep\":\"09\", \"Oct\":\"10\",\"Nov\":\"11\", \"Dec\":\"12\"}"
   ]
  },
  {
   "cell_type": "code",
   "execution_count": 145,
   "metadata": {},
   "outputs": [
    {
     "data": {
      "text/plain": [
       "('26th', 'May', '1960')"
      ]
     },
     "execution_count": 145,
     "metadata": {},
     "output_type": "execute_result"
    }
   ],
   "source": [
    "# less space complex solution\n",
    "day,month,year = date.split()\n",
    "print(day, month, year)\n",
    "\n",
    "M = [\"Jan\", \"Feb\", \"Mar\", \"Apr\", \"May\", \"Jun\", \"Jul\", \"Aug\", \"Sep\", \"Oct\", \"Nov\", \"Dec\"]      \n",
    "f'{year}-{M.index(month) + 1:02}-{day[:-2]:0>2}'"
   ]
  },
  {
   "cell_type": "markdown",
   "metadata": {},
   "source": [
    "[**1629. Slowest Key**](https://leetcode.com/problems/slowest-key/)"
   ]
  },
  {
   "cell_type": "code",
   "execution_count": 53,
   "metadata": {},
   "outputs": [],
   "source": [
    "releaseTimes = [12,23,36,46,62]\n",
    "keysPressed = \"spuda\""
   ]
  },
  {
   "cell_type": "code",
   "execution_count": 65,
   "metadata": {},
   "outputs": [],
   "source": [
    "releaseTimes = [9,29,49,50,51]\n",
    "keysPressed = \"cbcdv\""
   ]
  },
  {
   "cell_type": "code",
   "execution_count": 66,
   "metadata": {},
   "outputs": [
    {
     "name": "stdout",
     "output_type": "stream",
     "text": [
      "c\n"
     ]
    }
   ],
   "source": [
    "ans = \"\"\n",
    "mx = 0\n",
    "\n",
    "for i, (t, k) in enumerate(zip(releaseTimes,keysPressed)):\n",
    "    if i:\n",
    "        t = t - releaseTimes[i-1]\n",
    "    if t > mx or t == mx and k > ans:\n",
    "        ans, mx = k, t\n",
    "print(ans)"
   ]
  },
  {
   "cell_type": "code",
   "execution_count": null,
   "metadata": {},
   "outputs": [],
   "source": []
  }
 ],
 "metadata": {
  "kernelspec": {
   "display_name": "Python 3",
   "language": "python",
   "name": "python3"
  },
  "language_info": {
   "codemirror_mode": {
    "name": "ipython",
    "version": 3
   },
   "file_extension": ".py",
   "mimetype": "text/x-python",
   "name": "python",
   "nbconvert_exporter": "python",
   "pygments_lexer": "ipython3",
   "version": "3.8.5"
  }
 },
 "nbformat": 4,
 "nbformat_minor": 4
}
