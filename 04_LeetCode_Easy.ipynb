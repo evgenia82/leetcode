{
 "cells": [
  {
   "cell_type": "markdown",
   "metadata": {},
   "source": [
    "**933. Number of Recent Calls**\n",
    "\n",
    "You have a `RecentCounter` class which counts the number of recent requests within a certain time frame.\n",
    "\n",
    "Implement the `RecentCounter` class:\n",
    "\n",
    " * `RecentCounter()` Initializes the counter with zero recent requests.\n",
    " * `int ping(int t)` Adds a new request at time `t`, where `t` represents some time in milliseconds, and returns the number of requests that has happened in the past `3000` milliseconds (including the new request). Specifically, return the number of requests that have happened in the inclusive range `[t - 3000, t]`.\n",
    " \n",
    "It is **guaranteed** that every call to ping uses a strictly larger value of `t` than the previous call."
   ]
  },
  {
   "cell_type": "code",
   "execution_count": 47,
   "metadata": {},
   "outputs": [],
   "source": [
    "import collections\n",
    "class RecentCounter:\n",
    "\n",
    "    def __init__(self):\n",
    "        self.q = collections.deque()\n",
    "        \n",
    "\n",
    "    def ping(self, t: int) -> int:\n",
    "        self.q.append(t)\n",
    "        while self.q[0] < (t-3000):\n",
    "            self.q.popleft()\n",
    "        return len(self.q)\n",
    "        "
   ]
  },
  {
   "cell_type": "code",
   "execution_count": null,
   "metadata": {},
   "outputs": [],
   "source": [
    "# # Your RecentCounter object will be instantiated and called as such:\n",
    "# obj = RecentCounter()\n",
    "# param_1 = obj.ping(t)"
   ]
  },
  {
   "cell_type": "markdown",
   "metadata": {},
   "source": [
    "**557. Reverse Words in a String III**\n",
    "\n",
    "Given a string `s`, reverse the order of characters in each word within a sentence while still preserving whitespace and initial word order."
   ]
  },
  {
   "cell_type": "code",
   "execution_count": 10,
   "metadata": {},
   "outputs": [],
   "source": [
    "s = \"Let's take LeetCode contest\""
   ]
  },
  {
   "cell_type": "code",
   "execution_count": 31,
   "metadata": {},
   "outputs": [
    {
     "data": {
      "text/plain": [
       "\"s'teL ekat edoCteeL tsetnoc\""
      ]
     },
     "execution_count": 31,
     "metadata": {},
     "output_type": "execute_result"
    }
   ],
   "source": [
    "l = [word[::-1] for word in s.split()]\n",
    "\" \".join([word[::-1] for word in s.split()])"
   ]
  },
  {
   "cell_type": "markdown",
   "metadata": {},
   "source": [
    "**1103. Distribute Candies to People**"
   ]
  },
  {
   "cell_type": "code",
   "execution_count": 13,
   "metadata": {},
   "outputs": [],
   "source": [
    "candies = 7\n",
    "num_people = 4\n",
    "# Output: [1,2,3,1]"
   ]
  },
  {
   "cell_type": "code",
   "execution_count": 14,
   "metadata": {},
   "outputs": [
    {
     "name": "stdout",
     "output_type": "stream",
     "text": [
      "0\n",
      "1\n",
      "2\n",
      "3\n"
     ]
    },
    {
     "data": {
      "text/plain": [
       "[1, 2, 3, 1]"
      ]
     },
     "execution_count": 14,
     "metadata": {},
     "output_type": "execute_result"
    }
   ],
   "source": [
    "people = num_people * [0]\n",
    "give = 0\n",
    "while candies > 0:\n",
    "    print(give%num_people)\n",
    "    people[give % num_people] += min(candies, give + 1)\n",
    "    give += 1\n",
    "    candies -= give\n",
    "people"
   ]
  },
  {
   "cell_type": "markdown",
   "metadata": {},
   "source": [
    "**1394. Find Lucky Integer in an Array**\n",
    "\n",
    "Given an array of integers `arr`, a lucky integer is an integer which has a frequency in the array equal to its value.\n",
    "\n",
    "Return a *lucky* integer in the array. If there are multiple lucky integers return the **largest** of them. If there is no lucky integer return `-1`."
   ]
  },
  {
   "cell_type": "code",
   "execution_count": 16,
   "metadata": {},
   "outputs": [],
   "source": [
    "def findLucky(arr):\n",
    "    arr.sort()\n",
    "    d = {}\n",
    "    for c in arr:\n",
    "        if c not in d:\n",
    "            d[c] = 0\n",
    "        d[c] += 1\n",
    "    lucky = 0\n",
    "    for key, value in d.items():\n",
    "        if key == value:\n",
    "            lucky = key\n",
    "    if lucky == 0:\n",
    "        lucky = -1\n",
    "    return lucky"
   ]
  },
  {
   "cell_type": "code",
   "execution_count": 17,
   "metadata": {},
   "outputs": [
    {
     "data": {
      "text/plain": [
       "3"
      ]
     },
     "execution_count": 17,
     "metadata": {},
     "output_type": "execute_result"
    }
   ],
   "source": [
    "arr = [1,2,2,3,3,3]\n",
    "findLucky(arr)"
   ]
  },
  {
   "cell_type": "markdown",
   "metadata": {},
   "source": [
    "**1046. Last Stone Weight**\n",
    "\n",
    "We have a collection of stones, each stone has a positive integer weight.\n",
    "\n",
    "Each turn, we choose the two heaviest stones and smash them together.  Suppose the stones have weights `x` and `y` with `x <= y`.  The result of this smash is:\n",
    "\n",
    "If `x == y`, both stones are totally destroyed;\n",
    "If `x != y`, the stone of weight `x` is totally destroyed, and the stone of weight y has new weight `y-x`.\n",
    "At the end, there is at most 1 stone left.  Return the weight of this stone (or 0 if there are no stones left.)"
   ]
  },
  {
   "cell_type": "code",
   "execution_count": 20,
   "metadata": {},
   "outputs": [],
   "source": [
    "stones = [2,7,4,1,8,1]"
   ]
  },
  {
   "cell_type": "code",
   "execution_count": 21,
   "metadata": {},
   "outputs": [],
   "source": [
    "# sort the list, remove the last element, and do it recursively until array is empty\n",
    "def lastStoneWeight(stones):\n",
    "    if len(stones) == 1: \n",
    "        return stones[0]\n",
    "    stones.sort()\n",
    "    return lastStoneWeight([stones.pop() - stones.pop()] + stones)"
   ]
  },
  {
   "cell_type": "code",
   "execution_count": 22,
   "metadata": {},
   "outputs": [
    {
     "data": {
      "text/plain": [
       "1"
      ]
     },
     "execution_count": 22,
     "metadata": {},
     "output_type": "execute_result"
    }
   ],
   "source": [
    "lastStoneWeight(stones)"
   ]
  },
  {
   "cell_type": "code",
   "execution_count": 25,
   "metadata": {},
   "outputs": [],
   "source": [
    "def lastStoneWeight2(stones):\n",
    "    while len(stones)>1:\n",
    "        stones.sort()\n",
    "        y = stones.pop()\n",
    "        x = stones.pop()\n",
    "        stones.append(y-x)    # don't need to compare x & y...\n",
    "    return stones[0]"
   ]
  },
  {
   "cell_type": "code",
   "execution_count": 26,
   "metadata": {},
   "outputs": [
    {
     "data": {
      "text/plain": [
       "0"
      ]
     },
     "execution_count": 26,
     "metadata": {},
     "output_type": "execute_result"
    }
   ],
   "source": [
    "lastStoneWeight2(stones)"
   ]
  },
  {
   "cell_type": "markdown",
   "metadata": {},
   "source": [
    "**1189. Maximum Number of Balloons**\n",
    "\n",
    "Given a string `text`, you want to use the characters of `text` to form as many instances of the word \"balloon\" as possible.\n",
    "\n",
    "You can use each character in `text` **at most once**. Return the maximum number of instances that can be formed."
   ]
  },
  {
   "cell_type": "code",
   "execution_count": 38,
   "metadata": {},
   "outputs": [
    {
     "data": {
      "text/plain": [
       "{'b': 1, 'a': 1, 'l': 1, 'o': 2, 'n': 1}"
      ]
     },
     "execution_count": 38,
     "metadata": {},
     "output_type": "execute_result"
    }
   ],
   "source": [
    "target = 'baloon'\n",
    "d = {}\n",
    "for c in target:\n",
    "    if c not in d:\n",
    "        d[c] = 0\n",
    "    d[c] += 1\n",
    "d"
   ]
  },
  {
   "cell_type": "code",
   "execution_count": 42,
   "metadata": {},
   "outputs": [
    {
     "data": {
      "text/plain": [
       "83"
      ]
     },
     "execution_count": 42,
     "metadata": {},
     "output_type": "execute_result"
    }
   ],
   "source": [
    "# text = \"loonbalxballpoon\"\n",
    "text = \"krhizmmgmcrecekgyljqkldocicziihtgpqwbticmvuyznragqoyrukzopfmjhjjxemsxmrsxuqmnkrzhgvtgdgtykhcglurvppvcwhrhrjoislonvvglhdciilduvuiebmffaagxerjeewmtcwmhmtwlxtvlbocczlrppmpjbpnifqtlninyzjtmazxdbzwxthpvrfulvrspycqcghuopjirzoeuqhetnbrcdakilzmklxwudxxhwilasbjjhhfgghogqoofsufysmcqeilaivtmfziumjloewbkjvaahsaaggteppqyuoylgpbdwqubaalfwcqrjeycjbbpifjbpigjdnnswocusuprydgrtxuaojeriigwumlovafxnpibjopjfqzrwemoinmptxddgcszmfprdrichjeqcvikynzigleaajcysusqasqadjemgnyvmzmbcfrttrzonwafrnedglhpudovigwvpimttiketopkvqw\"\n",
    "for c in text:\n",
    "    if c in d:\n",
    "        d[c] -= 1\n",
    "    d[c] = 0\n",
    "    \n",
    "result = len(text)//len(target) \n",
    "for value in d.values():\n",
    "    if value != 0:\n",
    "        result = -1\n",
    "\n",
    "result"
   ]
  },
  {
   "cell_type": "code",
   "execution_count": 45,
   "metadata": {},
   "outputs": [
    {
     "data": {
      "text/plain": [
       "{'b': 15, 'a': 20, 'l': 10, 'o': 10, 'n': 15}"
      ]
     },
     "execution_count": 45,
     "metadata": {},
     "output_type": "execute_result"
    }
   ],
   "source": [
    "counter = {\"b\":0, \"a\":0, \"l\":0, \"o\":0, \"n\":0}\n",
    "for char in text:\n",
    "    if char in counter:\n",
    "        counter[char] += 1\n",
    "counter[\"l\"] //= 2\n",
    "counter[\"o\"] //= 2\n",
    "min(counter.values())\n",
    "counter"
   ]
  },
  {
   "cell_type": "markdown",
   "metadata": {},
   "source": [
    "**1408. String Matching in an Array**\n",
    "\n",
    "Given an array of string `words`. Return all strings in `words` which is substring of another word in **any** order. \n",
    "\n",
    "String `words[i]` is substring of `words[j]`, if can be obtained removing some characters to left and/or right side of `words[j]`."
   ]
  },
  {
   "cell_type": "code",
   "execution_count": 34,
   "metadata": {},
   "outputs": [],
   "source": [
    "words = [\"mass\",\"as\",\"hero\",\"superhero\"]\n",
    "# words = [\"leetcode\",\"et\",\"code\"]"
   ]
  },
  {
   "cell_type": "code",
   "execution_count": 36,
   "metadata": {},
   "outputs": [
    {
     "data": {
      "text/plain": [
       "['hero', 'as']"
      ]
     },
     "execution_count": 36,
     "metadata": {},
     "output_type": "execute_result"
    }
   ],
   "source": [
    "results = set()\n",
    "for i in range(len(words)):\n",
    "    for j in range(len(words)):\n",
    "        if words[i] in words[j] and len(words[i]) < len(words[j]):\n",
    "            results.add(words[i])\n",
    "            \n",
    "list(results)"
   ]
  },
  {
   "cell_type": "markdown",
   "metadata": {},
   "source": [
    "[**1160. Find Words That Can Be Formed by Characters**](https://leetcode.com/problems/find-words-that-can-be-formed-by-characters/)"
   ]
  },
  {
   "cell_type": "code",
   "execution_count": 46,
   "metadata": {},
   "outputs": [
    {
     "name": "stdout",
     "output_type": "stream",
     "text": [
      "povbsgvpfiobffpsspgpipfgsfigvffpbgsvgvfvfsogbsbggiospvoisiibiobsvggbigfpvgibpivioioibgsvgsivgggpvpsipfogpivpbipvfbpggoboiibffvfvbiiobfvsposbgsoosfgogivsoogvsosfbibivvsbbbobpfgbigvfofoobvbgfipbvpbbisvbvppgogpfboogfgfpispfbsvofiivpssspgbppipfbsbifobfpfpibvpfoggvoiogofsggosffvvsifigsfibogfbspgffpogigbbfssospvvgboppogspbbosvgvspssfbggpvfssbpsivopiifofovvpbffviibvvfgfsssvvssbvivsvpbvsigvssvsgpvffpofooospggbioifbpoggspipgbifsivgsgbvipfspiffsfiposifsvgbbvvpfbpofbfpsfbiviboggpbibgfibobppifoppipppvvbvsggfgobfsfiiggiivsbbsssvsgopgifogvifgbisipbbvpbsoggfbbboogsvfpfsfpfbobisbbpgifvbvssofioogffpbsbsibgvofvfbsoioibgpsosobgbbbpbboipoopivfsvgsoopvosipsivbisbsgiiopgfioggiboogfsgovpoiobggbbvoigovibopogvvsgobfobvsfpggvgbfif\n",
      "[] 0 0\n"
     ]
    }
   ],
   "source": [
    "# this solution doesn't work well on all testcases\n",
    "result = \"\"\n",
    "output = []\n",
    "count = 0\n",
    "for word in words:\n",
    "    for char in word:\n",
    "        if char in chars:\n",
    "            result += char\n",
    "print(result)\n",
    "for word in words:\n",
    "    if result.startswith(word):\n",
    "        output.append(word)\n",
    "        count += len(word)\n",
    "        result = result[len(word):]\n",
    "    else:\n",
    "        result = result[1:]\n",
    "    \n",
    "print(output, len(output), count)"
   ]
  },
  {
   "cell_type": "code",
   "execution_count": 73,
   "metadata": {},
   "outputs": [],
   "source": [
    "words = [\"pxlqovnbsgvqjzpfeidchzrodnbqfrccfydzjptukscjuatlsrcurepllxzyghhdepitqptlmfkhzxjgswaulxkfydhkilg\",\n",
    "         \"uqklvqnlhdkwryjawkqfajfpbcnhglxlwxlaskxlytr\",\"jvgkxcdkxrvfahjkvhmfuyjzxtyxrsogbtsjybeaxugqymcr\",\n",
    "         \"rgxditmosplnqvodtis\",\"jm\",\n",
    "         \"ruqjwejuanjtiizcmbieobesnjnadzqvqumggblzmkxilgfarnxwpcawtkzxlvugibpidvwtikloeziuxqoi\",\n",
    "         \"wxeyzrnbhlhwxecrgejsrawyulynvgtszwqqlihkcvckgcgtgpyqtkuwvjywmhpskaiwmpyarftqhnogxpith\",\n",
    "         \"vdpbykqlihtpvfnqbrcjpggojqbalerohyitktuikbffvfatcnneuvbanjihiaorrjcdthntnrxebfhvshmpodmzhtwnasbm\",\n",
    "         \"wgjstkoaojcesfdrllugmojwdmgeejyiqvshlowtktddattunarnohgvqsoskfmbrami\",\"ecwqxbawirvnxvsjybbebclaturorlcbpf\",\n",
    "         \"gtjbaigvufrotlwfoqqolnjabnvtbcygtfcytinzpcjbvprdkdjawrcbthmxjrabimhhs\",\n",
    "         \"cvzlbrvppkyxtjxzeglzwoagmpjnfxddbwolxmwdohgtfktgftzzkwpianslkpldyfzubtjczse\",\"neaw\",\n",
    "         \"mxhmvkajofnmdiiduactlemcvpztscmsnrdhuhquxnnzywsrzxyplgbppiypxwcfbsnyzblaeifo\",\n",
    "         \"krekecabfpufucjhqphjnibaeqdvdpmrfougdwugvoioqangdnxromwlxnfeydaneyazzclscqgdxlhhgnoqmslfflzqv\",\n",
    "         \"klutvchxsceihfmzitgqakytesfjykribjhjzdruuoycjkwaghmmqkfrhkrtawudtjyjwqbyspamlegqjlwlj\",\n",
    "         \"raykfkflqdzrpthdejetwolgciygwaktulkxemkdbbllkjxhnnafsms\",\"os\",\n",
    "         \"xhchkcetmlprcdmrnalvkvgabxxnomphqpqhnddqhecogspbdebeoshvjgzvmqu\",\n",
    "         \"jqtdysnpskktynxwmsfaabglagnqcllptvuyyqjwrmqaftenusmsahhhqubkwxltpr\",\n",
    "         \"sulmwluiwvlroldpiyecaicwrawzwflokefqkdwmxejaovvpbflfdtviinbvvtlhhhefmgfsqs\",\"sxyhcckvyl\",\n",
    "         \"vsaacsybcddxvuzkddjmuivsvtjyanpbydmkcwnkmxvsiantgkvkmqjysclsvd\",\"sxcghypulvmfqfunxj\",\"pozekufhlooosxpcggbi\",\n",
    "         \"xzaoxzllcixfqbupqozmzrnugj\",\"j\",\"tgslwp\",\"ntrdkixexajlpjgmcbrqimwtqnzfrqjszeiuvrgzclerzmsnagzaxbredvlrmipzflrzusclckmxphc\",\"ifdflsywdfizpodsehrrifsvejcxarrxmxyjgbbvqyqvywncphzfmnxhybxpdcozfnzablfx\",\"uluhplzrsaehaqxfnbcmixueedevhirbwqdyztwaxnkogcauymxgcpabxekib\",\"agtfkinbdccoemxetbryzpluzlpyzicnfopphrxriqm\",\"pdympxpwvxwcqaxrvbvyqkrresrjgzgxuyfxtkgldtathokdbyfsqfmitmiyagtqgijaiazvsumeyutbbwxqdshquzrehn\",\"rqe\",\"sljsvenhhstnnngzqyo\",\"dezrzpgldeimxfoqajuhjctgvalwkhkjemjaxumxqmifglbizusuqlttxirpbqbuvauwy\",\"dkwpyezbmkcskoxxcgrxcewknqgdckjxfyzcmzqcbyeucxbqybxoldogtkmdknsrruvnlfqnpfx\",\"sjeftmjkuperfynbreycwhuoyqybticswblbrrpugzhlrmiedjqufnehevzqwtaebwvdswsz\",\"lolnfyliloqmhjmhhohdtgfajjfdjqpubslbsrwitbjmrcegdrdjzvonxaefdvdfcbqmaaks\",\"qhcoaiocjhuzywkirlblajgeapzajqsoa\",\"sxrmoqxqbtakuqwmrrkljmegbwbeqbywmlyuprwyhljzejbybxoumidpxdrohwdjoqycpxcmivaulnqzneydwqfsvcxgyyseuk\",\"yrowy\",\"dohrzkrzdjehpctnjrvhzojullsiucrhphshwxwicyzkvzbqrztic\",\"rmshnxtbhsdgkiijrmwulocdzjzpgfyimkjdthuzkhoqgkeawgwincubrloknocxwzgqqcxafksxgzh\",\"aymovnuhptozhkiyowbeguzlkmrwjnujgjbdne\",\"abc\",\"vxoigovwmqizmkwbkktqk\",\"uokwktdempzloaglvvkqstztmwzcmhgxtoua\",\"bzwjxqueazlzfojrkbqmhtwrvuwsnfcnylurnddpektekca\",\"qgndjgvzcyajhgmrrnhdywwdbmkhtthwcfiueuxfldanyrmccwcy\"]\n",
    "chars = \"figspbov\""
   ]
  },
  {
   "cell_type": "code",
   "execution_count": 68,
   "metadata": {},
   "outputs": [],
   "source": [
    "words = [\"hello\",\"world\",\"leetcode\"]\n",
    "chars = \"welldonehoneyr\""
   ]
  },
  {
   "cell_type": "code",
   "execution_count": 71,
   "metadata": {},
   "outputs": [],
   "source": [
    "words = [\"cat\",\"bt\",\"hat\",\"tree\"]\n",
    "chars = \"atach\""
   ]
  },
  {
   "cell_type": "code",
   "execution_count": 74,
   "metadata": {},
   "outputs": [
    {
     "name": "stdout",
     "output_type": "stream",
     "text": [
      "os\n"
     ]
    },
    {
     "data": {
      "text/plain": [
       "2"
      ]
     },
     "execution_count": 74,
     "metadata": {},
     "output_type": "execute_result"
    }
   ],
   "source": [
    "counter = 0\n",
    "for w in words:\n",
    "    included = True\n",
    "    charsList = [c for c in chars]\n",
    "    for c in w:\n",
    "        if c in charsList:\n",
    "            charsList.remove(c)\n",
    "        else:\n",
    "            included = False\n",
    "            break\n",
    "    if included: \n",
    "        counter = counter+len(w)\n",
    "    if included:\n",
    "        print(w)\n",
    "counter"
   ]
  },
  {
   "cell_type": "markdown",
   "metadata": {},
   "source": [
    "[**682. Baseball Game**](https://leetcode.com/problems/baseball-game/)"
   ]
  },
  {
   "cell_type": "code",
   "execution_count": 54,
   "metadata": {},
   "outputs": [],
   "source": [
    "ops = [\"5\",\"2\",\"C\",\"D\",\"+\"]"
   ]
  },
  {
   "cell_type": "code",
   "execution_count": 57,
   "metadata": {},
   "outputs": [],
   "source": [
    "ops = [\"5\",\"-2\",\"4\",\"C\",\"D\",\"9\",\"+\",\"+\"]"
   ]
  },
  {
   "cell_type": "code",
   "execution_count": 58,
   "metadata": {},
   "outputs": [
    {
     "data": {
      "text/plain": [
       "[5, -2, 4, 'C', 'D', 9, '+', '+']"
      ]
     },
     "execution_count": 58,
     "metadata": {},
     "output_type": "execute_result"
    }
   ],
   "source": [
    "revised_ops = []\n",
    "for  ele in ops:\n",
    "    try:\n",
    "        if (int(ele)):\n",
    "            revised_ops.append(int(ele))\n",
    "    except ValueError:\n",
    "        revised_ops.append(ele)\n",
    "revised_ops"
   ]
  },
  {
   "cell_type": "code",
   "execution_count": 59,
   "metadata": {},
   "outputs": [
    {
     "data": {
      "text/plain": [
       "27"
      ]
     },
     "execution_count": 59,
     "metadata": {},
     "output_type": "execute_result"
    }
   ],
   "source": [
    "if len(ops)==1:\n",
    "    print(ops[0])\n",
    "res = []\n",
    "for ele in ops:\n",
    "    if ele == 'C':\n",
    "        del res[-1]\n",
    "    elif ele == 'D':\n",
    "        res.append(res[-1]*2)\n",
    "    elif ele == '+':\n",
    "        res.append((res[-1]+res[-2]))\n",
    "    else:\n",
    "        res.append(int(ele))\n",
    "sum(res)"
   ]
  },
  {
   "cell_type": "markdown",
   "metadata": {},
   "source": [
    "[**1848. Minimum Distance to the Target Element**](https://leetcode.com/problems/minimum-distance-to-the-target-element/)"
   ]
  },
  {
   "cell_type": "code",
   "execution_count": 60,
   "metadata": {},
   "outputs": [],
   "source": [
    "nums = [1,2,3,4,5,6,7,8]\n",
    "target = 5\n",
    "start = 3\n",
    "initial_start = 3"
   ]
  },
  {
   "cell_type": "code",
   "execution_count": 58,
   "metadata": {},
   "outputs": [],
   "source": [
    "nums = [1,1,1,1,1,1,1,1,1,1]\n",
    "target = 1\n",
    "start = initial_start = 0"
   ]
  },
  {
   "cell_type": "code",
   "execution_count": 63,
   "metadata": {},
   "outputs": [],
   "source": [
    "nums = [5,3,6]\n",
    "target = 5\n",
    "start = initial_start = 2"
   ]
  },
  {
   "cell_type": "code",
   "execution_count": 62,
   "metadata": {},
   "outputs": [
    {
     "name": "stdout",
     "output_type": "stream",
     "text": [
      "4\n",
      "target is 5\n",
      "1\n"
     ]
    }
   ],
   "source": [
    "while start <= len(nums):\n",
    "    if nums[start] == target:\n",
    "        print(\"target is \" + str(nums[start]))\n",
    "        print(abs(start - initial_start))\n",
    "        break\n",
    "    else:\n",
    "        print(nums[start])\n",
    "        start += 1"
   ]
  },
  {
   "cell_type": "code",
   "execution_count": 64,
   "metadata": {},
   "outputs": [
    {
     "name": "stdout",
     "output_type": "stream",
     "text": [
      "2\n"
     ]
    }
   ],
   "source": [
    "for i, num in enumerate(nums):\n",
    "    if num == target:\n",
    "        print(abs(i - start))"
   ]
  },
  {
   "cell_type": "code",
   "execution_count": 65,
   "metadata": {},
   "outputs": [
    {
     "data": {
      "text/plain": [
       "2"
      ]
     },
     "execution_count": 65,
     "metadata": {},
     "output_type": "execute_result"
    }
   ],
   "source": [
    "# one liner\n",
    "min(abs(i - start) for i, a in enumerate(nums) if a == target)"
   ]
  },
  {
   "cell_type": "code",
   "execution_count": null,
   "metadata": {},
   "outputs": [],
   "source": []
  }
 ],
 "metadata": {
  "kernelspec": {
   "display_name": "Python 3",
   "language": "python",
   "name": "python3"
  },
  "language_info": {
   "codemirror_mode": {
    "name": "ipython",
    "version": 3
   },
   "file_extension": ".py",
   "mimetype": "text/x-python",
   "name": "python",
   "nbconvert_exporter": "python",
   "pygments_lexer": "ipython3",
   "version": "3.8.5"
  }
 },
 "nbformat": 4,
 "nbformat_minor": 4
}
