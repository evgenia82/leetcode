{
 "cells": [
  {
   "cell_type": "markdown",
   "metadata": {},
   "source": [
    "**933. Number of Recent Calls**\n",
    "\n",
    "You have a `RecentCounter` class which counts the number of recent requests within a certain time frame.\n",
    "\n",
    "Implement the `RecentCounter` class:\n",
    "\n",
    " * `RecentCounter()` Initializes the counter with zero recent requests.\n",
    " * `int ping(int t)` Adds a new request at time `t`, where `t` represents some time in milliseconds, and returns the number of requests that has happened in the past `3000` milliseconds (including the new request). Specifically, return the number of requests that have happened in the inclusive range `[t - 3000, t]`.\n",
    " \n",
    "It is **guaranteed** that every call to ping uses a strictly larger value of `t` than the previous call."
   ]
  },
  {
   "cell_type": "code",
   "execution_count": 47,
   "metadata": {},
   "outputs": [],
   "source": [
    "import collections\n",
    "class RecentCounter:\n",
    "\n",
    "    def __init__(self):\n",
    "        self.q = collections.deque()\n",
    "        \n",
    "\n",
    "    def ping(self, t: int) -> int:\n",
    "        self.q.append(t)\n",
    "        while self.q[0] < (t-3000):\n",
    "            self.q.popleft()\n",
    "        return len(self.q)\n",
    "        "
   ]
  },
  {
   "cell_type": "code",
   "execution_count": null,
   "metadata": {},
   "outputs": [],
   "source": [
    "# # Your RecentCounter object will be instantiated and called as such:\n",
    "# obj = RecentCounter()\n",
    "# param_1 = obj.ping(t)"
   ]
  },
  {
   "cell_type": "markdown",
   "metadata": {},
   "source": [
    "**557. Reverse Words in a String III**\n",
    "\n",
    "Given a string `s`, reverse the order of characters in each word within a sentence while still preserving whitespace and initial word order."
   ]
  },
  {
   "cell_type": "code",
   "execution_count": 10,
   "metadata": {},
   "outputs": [],
   "source": [
    "s = \"Let's take LeetCode contest\""
   ]
  },
  {
   "cell_type": "code",
   "execution_count": 31,
   "metadata": {},
   "outputs": [
    {
     "data": {
      "text/plain": [
       "\"s'teL ekat edoCteeL tsetnoc\""
      ]
     },
     "execution_count": 31,
     "metadata": {},
     "output_type": "execute_result"
    }
   ],
   "source": [
    "l = [word[::-1] for word in s.split()]\n",
    "\" \".join([word[::-1] for word in s.split()])"
   ]
  },
  {
   "cell_type": "markdown",
   "metadata": {},
   "source": [
    "**1103. Distribute Candies to People**"
   ]
  },
  {
   "cell_type": "code",
   "execution_count": 13,
   "metadata": {},
   "outputs": [],
   "source": [
    "candies = 7\n",
    "num_people = 4\n",
    "# Output: [1,2,3,1]"
   ]
  },
  {
   "cell_type": "code",
   "execution_count": 14,
   "metadata": {},
   "outputs": [
    {
     "name": "stdout",
     "output_type": "stream",
     "text": [
      "0\n",
      "1\n",
      "2\n",
      "3\n"
     ]
    },
    {
     "data": {
      "text/plain": [
       "[1, 2, 3, 1]"
      ]
     },
     "execution_count": 14,
     "metadata": {},
     "output_type": "execute_result"
    }
   ],
   "source": [
    "people = num_people * [0]\n",
    "give = 0\n",
    "while candies > 0:\n",
    "    print(give%num_people)\n",
    "    people[give % num_people] += min(candies, give + 1)\n",
    "    give += 1\n",
    "    candies -= give\n",
    "people"
   ]
  },
  {
   "cell_type": "markdown",
   "metadata": {},
   "source": [
    "**1394. Find Lucky Integer in an Array**\n",
    "\n",
    "Given an array of integers `arr`, a lucky integer is an integer which has a frequency in the array equal to its value.\n",
    "\n",
    "Return a *lucky* integer in the array. If there are multiple lucky integers return the **largest** of them. If there is no lucky integer return `-1`."
   ]
  },
  {
   "cell_type": "code",
   "execution_count": 16,
   "metadata": {},
   "outputs": [],
   "source": [
    "def findLucky(arr):\n",
    "    arr.sort()\n",
    "    d = {}\n",
    "    for c in arr:\n",
    "        if c not in d:\n",
    "            d[c] = 0\n",
    "        d[c] += 1\n",
    "    lucky = 0\n",
    "    for key, value in d.items():\n",
    "        if key == value:\n",
    "            lucky = key\n",
    "    if lucky == 0:\n",
    "        lucky = -1\n",
    "    return lucky"
   ]
  },
  {
   "cell_type": "code",
   "execution_count": 17,
   "metadata": {},
   "outputs": [
    {
     "data": {
      "text/plain": [
       "3"
      ]
     },
     "execution_count": 17,
     "metadata": {},
     "output_type": "execute_result"
    }
   ],
   "source": [
    "arr = [1,2,2,3,3,3]\n",
    "findLucky(arr)"
   ]
  },
  {
   "cell_type": "markdown",
   "metadata": {},
   "source": [
    "**1046. Last Stone Weight**\n",
    "\n",
    "We have a collection of stones, each stone has a positive integer weight.\n",
    "\n",
    "Each turn, we choose the two heaviest stones and smash them together.  Suppose the stones have weights `x` and `y` with `x <= y`.  The result of this smash is:\n",
    "\n",
    "If `x == y`, both stones are totally destroyed;\n",
    "If `x != y`, the stone of weight `x` is totally destroyed, and the stone of weight y has new weight `y-x`.\n",
    "At the end, there is at most 1 stone left.  Return the weight of this stone (or 0 if there are no stones left.)"
   ]
  },
  {
   "cell_type": "code",
   "execution_count": 20,
   "metadata": {},
   "outputs": [],
   "source": [
    "stones = [2,7,4,1,8,1]"
   ]
  },
  {
   "cell_type": "code",
   "execution_count": 21,
   "metadata": {},
   "outputs": [],
   "source": [
    "# sort the list, remove the last element, and do it recursively until array is empty\n",
    "def lastStoneWeight(stones):\n",
    "    if len(stones) == 1: \n",
    "        return stones[0]\n",
    "    stones.sort()\n",
    "    return lastStoneWeight([stones.pop() - stones.pop()] + stones)"
   ]
  },
  {
   "cell_type": "code",
   "execution_count": 22,
   "metadata": {},
   "outputs": [
    {
     "data": {
      "text/plain": [
       "1"
      ]
     },
     "execution_count": 22,
     "metadata": {},
     "output_type": "execute_result"
    }
   ],
   "source": [
    "lastStoneWeight(stones)"
   ]
  },
  {
   "cell_type": "code",
   "execution_count": 23,
   "metadata": {},
   "outputs": [],
   "source": [
    "def lastStoneWeight2(stones):\n",
    "    while len(stones)>1:\n",
    "        stones.sort()\n",
    "        y = stones.pop()\n",
    "        x = stones.pop()\n",
    "        stones.append(y-x)    # don't need to compare x & y...\n",
    "    return stones[0]"
   ]
  },
  {
   "cell_type": "code",
   "execution_count": 24,
   "metadata": {},
   "outputs": [
    {
     "data": {
      "text/plain": [
       "0"
      ]
     },
     "execution_count": 24,
     "metadata": {},
     "output_type": "execute_result"
    }
   ],
   "source": [
    "lastStoneWeight2(stones)"
   ]
  },
  {
   "cell_type": "code",
   "execution_count": null,
   "metadata": {},
   "outputs": [],
   "source": []
  }
 ],
 "metadata": {
  "kernelspec": {
   "display_name": "Python 3",
   "language": "python",
   "name": "python3"
  },
  "language_info": {
   "codemirror_mode": {
    "name": "ipython",
    "version": 3
   },
   "file_extension": ".py",
   "mimetype": "text/x-python",
   "name": "python",
   "nbconvert_exporter": "python",
   "pygments_lexer": "ipython3",
   "version": "3.8.5"
  }
 },
 "nbformat": 4,
 "nbformat_minor": 4
}
