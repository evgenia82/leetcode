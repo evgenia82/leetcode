{
 "cells": [
  {
   "cell_type": "markdown",
   "metadata": {},
   "source": [
    "**1475. Final Prices With a Special Discount in a Shop**\n",
    "\n",
    "Given the array prices where prices[i] is the price of the ith item in a shop. There is a special discount for items in the shop, if you buy the ith item, then you will receive a discount equivalent to prices[j] where j is the minimum index such that j > i and prices[j] <= prices[i], otherwise, you will not receive any discount at all.\n",
    "\n",
    "*Return an array where the ith element is the final price you will pay for the ith item of the shop considering the special discount.*"
   ]
  },
  {
   "cell_type": "code",
   "execution_count": 8,
   "metadata": {},
   "outputs": [],
   "source": [
    "prices = [8,4,6,2,3]"
   ]
  },
  {
   "cell_type": "code",
   "execution_count": 10,
   "metadata": {},
   "outputs": [
    {
     "data": {
      "text/plain": [
       "[4, 2, 4, 2, 3]"
      ]
     },
     "execution_count": 10,
     "metadata": {},
     "output_type": "execute_result"
    }
   ],
   "source": [
    "res, stack = prices[:], []\n",
    "for i, price in enumerate(prices):\n",
    "    while stack and prices[stack[-1]] >= price:\n",
    "        res[stack.pop()] -= price\n",
    "    stack.append(i)\n",
    "res"
   ]
  },
  {
   "cell_type": "markdown",
   "metadata": {},
   "source": [
    "**905. Sort Array By Parity**\n",
    "\n",
    "Given an array A of non-negative integers, return an array consisting of all the even elements of A, followed by all the odd elements of A."
   ]
  },
  {
   "cell_type": "code",
   "execution_count": 2,
   "metadata": {},
   "outputs": [
    {
     "data": {
      "text/plain": [
       "[2, 4, 3, 1]"
      ]
     },
     "execution_count": 2,
     "metadata": {},
     "output_type": "execute_result"
    }
   ],
   "source": [
    "# brute force computationally and memory expensive\n",
    "nums = [3,1,2,4]\n",
    "new_list = list()\n",
    "for num in nums:\n",
    "    if num%2 == 0:\n",
    "        new_list.append(num)\n",
    "for num in nums:\n",
    "    if num%2 == 1:\n",
    "        new_list.append(num)\n",
    "new_list"
   ]
  },
  {
   "cell_type": "code",
   "execution_count": 13,
   "metadata": {},
   "outputs": [],
   "source": [
    "def sortArrayByParity(A):\n",
    "    pointer = 0\n",
    "    for i in range(len(A)):\n",
    "        if  A[i]%2 ==0:\n",
    "            temp = A[pointer] \n",
    "            A[pointer] =A[i]\n",
    "            A[i]=temp\n",
    "            pointer +=1\n",
    "               \n",
    "    return A"
   ]
  },
  {
   "cell_type": "code",
   "execution_count": 14,
   "metadata": {},
   "outputs": [
    {
     "data": {
      "text/plain": [
       "[2, 4, 3, 1]"
      ]
     },
     "execution_count": 14,
     "metadata": {},
     "output_type": "execute_result"
    }
   ],
   "source": [
    "sortArrayByParity(nums)"
   ]
  },
  {
   "cell_type": "markdown",
   "metadata": {},
   "source": [
    "**1299. Replace Elements with Greatest Element on Right Side**\n",
    "\n",
    "Given an array arr, replace every element in that array with the greatest element among the elements to its right, and replace the last element with -1."
   ]
  },
  {
   "cell_type": "code",
   "execution_count": 21,
   "metadata": {},
   "outputs": [
    {
     "data": {
      "text/plain": [
       "[18, 6, 6, 6, 1, -1]"
      ]
     },
     "execution_count": 21,
     "metadata": {},
     "output_type": "execute_result"
    }
   ],
   "source": [
    "# iterate from the back to the start,\n",
    "# We initilize mx = -1, where mx represent the max on the right.\n",
    "# Each round, we set A[i] = mx, where mx is its mas on the right.\n",
    "# Also we update mx = max(mx, A[i]), where A[i] is its original value.\n",
    "\n",
    "\n",
    "A = [17,18,5,4,6,1]\n",
    "mx = -1\n",
    "for i in range(len(A)-1, -1, -1):\n",
    "    A[i], mx = mx, max(mx, A[i])\n",
    "A"
   ]
  },
  {
   "cell_type": "code",
   "execution_count": 22,
   "metadata": {},
   "outputs": [],
   "source": [
    "def replaceElements(A, mx = -1):\n",
    "    for i in range(len(A) - 1, -1, -1):\n",
    "        A[i], mx = mx, max(mx, A[i])\n",
    "    return A"
   ]
  },
  {
   "cell_type": "code",
   "execution_count": 23,
   "metadata": {},
   "outputs": [
    {
     "data": {
      "text/plain": [
       "[18, 6, 6, 6, 1, -1]"
      ]
     },
     "execution_count": 23,
     "metadata": {},
     "output_type": "execute_result"
    }
   ],
   "source": [
    "arr = [17,18,5,4,6,1]\n",
    "replaceElements(arr)"
   ]
  },
  {
   "cell_type": "markdown",
   "metadata": {},
   "source": [
    "**383. Ransom Note**\n",
    "\n",
    "Given an arbitrary ransom note string and another string containing letters from all the magazines, write a function that will return true if the ransom note can be constructed from the magazines ; otherwise, it will return false.\n",
    "\n",
    "Each letter in the magazine string can only be used once in your ransom note."
   ]
  },
  {
   "cell_type": "code",
   "execution_count": 97,
   "metadata": {},
   "outputs": [],
   "source": [
    "ransomNote = \"aab\"\n",
    "magazine = \"bafr\""
   ]
  },
  {
   "cell_type": "code",
   "execution_count": 98,
   "metadata": {},
   "outputs": [
    {
     "name": "stdout",
     "output_type": "stream",
     "text": [
      "{'a': 2, 'b': 1}\n"
     ]
    },
    {
     "data": {
      "text/plain": [
       "{'a': 1}"
      ]
     },
     "execution_count": 98,
     "metadata": {},
     "output_type": "execute_result"
    }
   ],
   "source": [
    "d = {}\n",
    "for c in ransomNote:\n",
    "    if c in d:\n",
    "        d[c] += 1\n",
    "    else:\n",
    "        d[c] = 1\n",
    "print(d)\n",
    "for c in magazine:\n",
    "    if c in d:\n",
    "        d[c] -= 1\n",
    "        if d[c] == 0:\n",
    "            del d[c]\n",
    "d"
   ]
  },
  {
   "cell_type": "code",
   "execution_count": 99,
   "metadata": {},
   "outputs": [],
   "source": [
    "def canConstruct(ransomNote, magazine):\n",
    "        d = {}\n",
    "        for c in ransomNote:\n",
    "            if c in d:\n",
    "                d[c] += 1\n",
    "            else:\n",
    "                d[c] = 1\n",
    "        for c in magazine:\n",
    "            if c in d:\n",
    "                d[c] -= 1\n",
    "                # delete character that is not in ransomNote - so we can get an empty dictionary\n",
    "                if d[c] == 0:\n",
    "                    del d[c]\n",
    "                    \n",
    "        return not d"
   ]
  },
  {
   "cell_type": "code",
   "execution_count": 100,
   "metadata": {},
   "outputs": [
    {
     "data": {
      "text/plain": [
       "False"
      ]
     },
     "execution_count": 100,
     "metadata": {},
     "output_type": "execute_result"
    }
   ],
   "source": [
    "canConstruct(ransomNote, magazine)"
   ]
  },
  {
   "cell_type": "markdown",
   "metadata": {},
   "source": [
    "**1742. Maximum Number of Balls in a Box**\n",
    "\n",
    "You are working in a ball factory where you have n balls numbered from `lowLimit` up to `highLimit` inclusive (i.e., `n == highLimit - lowLimit + 1`), and an infinite number of boxes numbered from 1 to infinity.\n",
    "\n",
    "Your job at this factory is to put each ball in the box with a number equal to the sum of digits of the ball's number. For example, the ball number 321 will be put in the box number 3 + 2 + 1 = 6 and the ball number 10 will be put in the box number 1 + 0 = 1.\n",
    "\n",
    "Given two integers `lowLimit` and `highLimit`, return the number of balls in the box with the most balls."
   ]
  },
  {
   "cell_type": "code",
   "execution_count": 5,
   "metadata": {},
   "outputs": [
    {
     "data": {
      "text/plain": [
       "[1, 2, 3, 4, 5, 6, 7, 8, 9, 10, 2, 3, 4]"
      ]
     },
     "execution_count": 5,
     "metadata": {},
     "output_type": "execute_result"
    }
   ],
   "source": [
    "lowLimit = 10\n",
    "highLimit = 22\n",
    "new_list = []\n",
    "for ball in range(lowLimit, highLimit + 1):\n",
    "    new_list.append(sum(int(digit) for digit in str(ball)))\n",
    "new_list\n",
    "    "
   ]
  },
  {
   "cell_type": "code",
   "execution_count": 34,
   "metadata": {},
   "outputs": [
    {
     "name": "stdout",
     "output_type": "stream",
     "text": [
      "{5: 2, 6: 2, 7: 1, 8: 1, 9: 1, 1: 1, 2: 1, 3: 1, 4: 1}\n"
     ]
    },
    {
     "data": {
      "text/plain": [
       "2"
      ]
     },
     "execution_count": 34,
     "metadata": {},
     "output_type": "execute_result"
    }
   ],
   "source": [
    "# brute force solution - very slow though\n",
    "\n",
    "lowLimit = 5\n",
    "highLimit = 15\n",
    "d = {}\n",
    "for ball in range(lowLimit, highLimit + 1):\n",
    "    frequency = (sum(int(digit) for digit in str(ball)))\n",
    "    if frequency in d:\n",
    "        d[frequency] += 1\n",
    "    else:\n",
    "        d[frequency] = 1\n",
    "print(d)\n",
    "itemMaxValue = max(d.items(), key=lambda x : x[1])\n",
    "itemMaxValue[1]"
   ]
  },
  {
   "cell_type": "code",
   "execution_count": 35,
   "metadata": {},
   "outputs": [
    {
     "data": {
      "text/plain": [
       "2"
      ]
     },
     "execution_count": 35,
     "metadata": {},
     "output_type": "execute_result"
    }
   ],
   "source": [
    "boxes = [0] * 100\n",
    "        \n",
    "for i in range(lowLimit, highLimit + 1):\n",
    "    \n",
    "# For the current number \"i\", convert it into a list of its digits.\n",
    "# Compute its sum and increment the count in the frequency table.\n",
    "\n",
    "    boxes[sum([int(j) for j in str(i)])] += 1        \n",
    "max(boxes)"
   ]
  },
  {
   "cell_type": "code",
   "execution_count": 41,
   "metadata": {},
   "outputs": [
    {
     "data": {
      "text/plain": [
       "2"
      ]
     },
     "execution_count": 41,
     "metadata": {},
     "output_type": "execute_result"
    }
   ],
   "source": [
    "box = [0] * 46\n",
    "lo, id = lowLimit, 0\n",
    "while lo > 0:\n",
    "    id += lo % 10\n",
    "    lo //= 10\n",
    "    box[id] += 1\n",
    "for i in range(lowLimit + 1, highLimit + 1):\n",
    "    while i % 10 == 0:\n",
    "        id -= 9\n",
    "        i //= 10\n",
    "    id += 1\n",
    "    box[id] += 1\n",
    "max(box)"
   ]
  },
  {
   "cell_type": "markdown",
   "metadata": {},
   "source": [
    "**961. N-Repeated Element in Size 2N Array**\n",
    "\n",
    "In a array `A` of size `2N`, there are `N+1` unique elements, and exactly one of these elements is repeated `N` times.\n",
    "\n",
    "Return the element repeated `N` times."
   ]
  },
  {
   "cell_type": "code",
   "execution_count": 3,
   "metadata": {},
   "outputs": [
    {
     "name": "stdout",
     "output_type": "stream",
     "text": [
      "5\n"
     ]
    }
   ],
   "source": [
    "# brute force, slow solution\n",
    "A = [5,1,5,2,5,3,5,4]\n",
    "d = {}\n",
    "for num in A:\n",
    "    if num in d:\n",
    "        d[num] += 1\n",
    "    else:\n",
    "        d[num] = 1\n",
    "for key, value in d.items():\n",
    "    if value == len(A)/2:\n",
    "        print(key)"
   ]
  },
  {
   "cell_type": "code",
   "execution_count": 13,
   "metadata": {},
   "outputs": [],
   "source": [
    "A = [5,1,5,2,5,3,5,4]\n",
    "def repeatedNTimes(A):\n",
    "    d = {}\n",
    "    for num in A:\n",
    "        if num in d.keys():\n",
    "            return num\n",
    "        else:\n",
    "            d[num] = 1"
   ]
  },
  {
   "cell_type": "code",
   "execution_count": 14,
   "metadata": {},
   "outputs": [
    {
     "data": {
      "text/plain": [
       "5"
      ]
     },
     "execution_count": 14,
     "metadata": {},
     "output_type": "execute_result"
    }
   ],
   "source": [
    "repeatedNTimes(A)"
   ]
  },
  {
   "cell_type": "markdown",
   "metadata": {},
   "source": [
    "**942. DI String Match**\n",
    "\n",
    "Given a string `S` that only contains \"I\" (increase) or \"D\" (decrease), let `N = S.length`.\n",
    "\n",
    "Return any permutation `A` of `[0, 1, ..., N]` such that for all `i = 0, ..., N-1`:\n",
    "\n",
    " * `If S[i] == \"I\", then A[i] < A[i+1]`\n",
    " * `If S[i] == \"D\", then A[i] > A[i+1]`\n",
    " \n",
    "**Solution**\n",
    "\n",
    " * Think of available numbers to put as an array of `[0, 1, 2, ..., len(S)]`\n",
    " * When you see \"I\", your safest option is to put lowest(leftmost) number for the next move, so it will always increase\n",
    " * When you see \"D\", your safest option is to put highest(rightmost) number for the next move, so it will always decrease\n",
    " * Don't forget to put latest number when `l == r`"
   ]
  },
  {
   "cell_type": "code",
   "execution_count": 6,
   "metadata": {},
   "outputs": [
    {
     "data": {
      "text/plain": [
       "[2, 3, 1, 4, 0]"
      ]
     },
     "execution_count": 6,
     "metadata": {},
     "output_type": "execute_result"
    }
   ],
   "source": [
    "S = \"IDID\"\n",
    "left, right = 0, 0\n",
    "A = [0]\n",
    "for char in S:\n",
    "    if char == 'I':\n",
    "        right += 1\n",
    "        A.append(right)\n",
    "    else:\n",
    "        left -= 1\n",
    "        A.append(left)\n",
    "[i - left for i in A]"
   ]
  },
  {
   "cell_type": "code",
   "execution_count": null,
   "metadata": {},
   "outputs": [],
   "source": []
  },
  {
   "cell_type": "code",
   "execution_count": null,
   "metadata": {},
   "outputs": [],
   "source": []
  }
 ],
 "metadata": {
  "kernelspec": {
   "display_name": "Python 3",
   "language": "python",
   "name": "python3"
  },
  "language_info": {
   "codemirror_mode": {
    "name": "ipython",
    "version": 3
   },
   "file_extension": ".py",
   "mimetype": "text/x-python",
   "name": "python",
   "nbconvert_exporter": "python",
   "pygments_lexer": "ipython3",
   "version": "3.8.5"
  }
 },
 "nbformat": 4,
 "nbformat_minor": 4
}
