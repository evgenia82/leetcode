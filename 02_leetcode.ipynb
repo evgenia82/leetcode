{
 "cells": [
  {
   "cell_type": "markdown",
   "metadata": {},
   "source": [
    "**1309. Decrypt String from Alphabet to Integer Mapping**"
   ]
  },
  {
   "cell_type": "code",
   "execution_count": 14,
   "metadata": {},
   "outputs": [],
   "source": [
    "dic = {'1':'a','2':'b','3':'c','4':'d','5':'e','6':'f','7':'g','8':'h','9':'i','10':'j','11':'k','12':'l',\n",
    "       '13':'m','14':'n','15':'o','16':'p','17':'q','18':'r','19':'s','20':'t','21':'u','22':'v','23':'w',\n",
    "       '24':'x','25':'y','26':'z'}\n",
    "s = \"12345678910#11#12#13#14#15#16#17#18#19#20#21#22#23#24#25#26#\""
   ]
  },
  {
   "cell_type": "code",
   "execution_count": 15,
   "metadata": {},
   "outputs": [
    {
     "data": {
      "text/plain": [
       "'abcdefghijklmnopqrstuvwxyz'"
      ]
     },
     "execution_count": 15,
     "metadata": {},
     "output_type": "execute_result"
    }
   ],
   "source": [
    "ans , i = '', 0\n",
    "while i < len(s):\n",
    "    if i+2 < len(s) and s[i+2] == '#':\n",
    "        ans += dic[s[i:i+2]]\n",
    "        i += 3\n",
    "    else:\n",
    "        ans += dic[s[i]]\n",
    "        i += 1\n",
    "ans\n",
    "        "
   ]
  },
  {
   "cell_type": "markdown",
   "metadata": {},
   "source": [
    "**1704. Determine if String Halves Are Alike**"
   ]
  },
  {
   "cell_type": "code",
   "execution_count": 22,
   "metadata": {},
   "outputs": [],
   "source": [
    "s = \"AbCdEfGh\""
   ]
  },
  {
   "cell_type": "code",
   "execution_count": 25,
   "metadata": {},
   "outputs": [
    {
     "data": {
      "text/plain": [
       "True"
      ]
     },
     "execution_count": 25,
     "metadata": {},
     "output_type": "execute_result"
    }
   ],
   "source": [
    "vowels = ['a', 'e', 'i', 'o', 'u', 'A', 'E', 'I', 'O', 'U']\n",
    "count = 0\n",
    "for i,j in zip(s[:len(s)//2], s[len(s)//2:]):\n",
    "    if i in vowels:\n",
    "        count += 1\n",
    "    if j in vowels:\n",
    "        count -= 1\n",
    "    \n",
    "count == 0"
   ]
  },
  {
   "cell_type": "code",
   "execution_count": 24,
   "metadata": {},
   "outputs": [
    {
     "data": {
      "text/plain": [
       "True"
      ]
     },
     "execution_count": 24,
     "metadata": {},
     "output_type": "execute_result"
    }
   ],
   "source": [
    "vowels = ['a', 'e', 'i', 'o', 'u', 'A', 'E', 'I', 'O', 'U']\n",
    "a, b = 0, 0\n",
    "for i,j in zip(s[:len(s)//2], s[len(s)//2:]):\n",
    "    if i in vowels:\n",
    "        a += 1\n",
    "    if j in vowels:\n",
    "        b += 1\n",
    "    \n",
    "a == b"
   ]
  },
  {
   "cell_type": "markdown",
   "metadata": {},
   "source": [
    "**1436. Destination City**"
   ]
  },
  {
   "cell_type": "code",
   "execution_count": 8,
   "metadata": {},
   "outputs": [],
   "source": [
    "paths = [[\"B\",\"C\"],[\"D\",\"B\"],[\"C\",\"A\"]]\n",
    "dic = dict()"
   ]
  },
  {
   "cell_type": "code",
   "execution_count": 9,
   "metadata": {},
   "outputs": [
    {
     "name": "stdout",
     "output_type": "stream",
     "text": [
      "{'B': 'C', 'D': 'B', 'C': 'A'}\n",
      "A\n"
     ]
    }
   ],
   "source": [
    "for path in paths:\n",
    "    dic[path[0]] = path[1]\n",
    "print(dic)\n",
    "\n",
    "for src, dest in paths:\n",
    "    if dest not in dic:\n",
    "        print(dest)"
   ]
  },
  {
   "cell_type": "code",
   "execution_count": 4,
   "metadata": {},
   "outputs": [
    {
     "name": "stdout",
     "output_type": "stream",
     "text": [
      "['London']\n",
      "['London', 'New York']\n",
      "['London', 'New York', 'Lima']\n",
      "Sao Paulo\n"
     ]
    }
   ],
   "source": [
    "res=[]\n",
    "for item in paths:\n",
    "    res.append(item[0])\n",
    "    print(res)\n",
    "for item in paths:\n",
    "    if item[1] not in res:\n",
    "        print(item[1])"
   ]
  },
  {
   "cell_type": "markdown",
   "metadata": {},
   "source": [
    "**1450. Number of Students Doing Homework at a Given Time**"
   ]
  },
  {
   "cell_type": "code",
   "execution_count": 17,
   "metadata": {},
   "outputs": [],
   "source": [
    "startTime = [4] \n",
    "endTime = [4] \n",
    "queryTime = 4"
   ]
  },
  {
   "cell_type": "code",
   "execution_count": 18,
   "metadata": {},
   "outputs": [
    {
     "data": {
      "text/plain": [
       "1"
      ]
     },
     "execution_count": 18,
     "metadata": {},
     "output_type": "execute_result"
    }
   ],
   "source": [
    "count = 0\n",
    "for i, j in zip(startTime, endTime):\n",
    "    if i <= queryTime <= j:\n",
    "        count += 1\n",
    "count"
   ]
  },
  {
   "cell_type": "markdown",
   "metadata": {},
   "source": [
    "**1464. Maximum Product of Two Elements in an Array**"
   ]
  },
  {
   "cell_type": "code",
   "execution_count": 3,
   "metadata": {},
   "outputs": [],
   "source": [
    "nums = [3,4,5,2]"
   ]
  },
  {
   "cell_type": "code",
   "execution_count": 8,
   "metadata": {},
   "outputs": [
    {
     "data": {
      "text/plain": [
       "12"
      ]
     },
     "execution_count": 8,
     "metadata": {},
     "output_type": "execute_result"
    }
   ],
   "source": [
    "result = list()\n",
    "for i in range(len(nums)):\n",
    "    for j in range(i+1, len(nums)):\n",
    "        result.append((nums[i]-1)*(nums[j]-1))\n",
    "max(result)"
   ]
  },
  {
   "cell_type": "code",
   "execution_count": 9,
   "metadata": {},
   "outputs": [
    {
     "data": {
      "text/plain": [
       "12"
      ]
     },
     "execution_count": 9,
     "metadata": {},
     "output_type": "execute_result"
    }
   ],
   "source": [
    "nums.sort()\n",
    "(nums[-1]-1)*(nums[-2]-1)"
   ]
  },
  {
   "cell_type": "markdown",
   "metadata": {},
   "source": [
    "**1370. Increasing Decreasing String**\n",
    "\n",
    " * Count the number of occurrences of every letter.\n",
    " * Sort in alphabetic order.\n",
    " * Follow the procedure defined in the problem statement.\n"
   ]
  },
  {
   "cell_type": "code",
   "execution_count": 1,
   "metadata": {},
   "outputs": [],
   "source": [
    "s = \"aaaabbbbcccc\""
   ]
  },
  {
   "cell_type": "code",
   "execution_count": 6,
   "metadata": {},
   "outputs": [
    {
     "name": "stdout",
     "output_type": "stream",
     "text": [
      "['a', 'b', 'c', 'c', 'b', 'a', 'a', 'b', 'c', 'c', 'b', 'a']\n"
     ]
    },
    {
     "data": {
      "text/plain": [
       "'abccbaabccba'"
      ]
     },
     "execution_count": 6,
     "metadata": {},
     "output_type": "execute_result"
    }
   ],
   "source": [
    "d = {}\n",
    "for c in s:\n",
    "    if c not in d:\n",
    "        d[c] = 0\n",
    "    d[c] += 1\n",
    "    \n",
    "# create a list out of dictionary\n",
    "d = sorted([[char, num] for char, num in d.items()])\n",
    "r = []\n",
    "while len(r) < len(s):\n",
    "    for i in range(len(d)):\n",
    "        if d[i][1]:\n",
    "            r.append(d[i][0])\n",
    "            d[i][1] -= 1\n",
    "    for i in range(len(d)):\n",
    "        if d[~i][1]:\n",
    "            r.append(d[~i][0])\n",
    "            d[~i][1] -= 1\n",
    "''.join(r)"
   ]
  },
  {
   "cell_type": "code",
   "execution_count": 7,
   "metadata": {},
   "outputs": [
    {
     "data": {
      "text/plain": [
       "'abccbaabccba'"
      ]
     },
     "execution_count": 7,
     "metadata": {},
     "output_type": "execute_result"
    }
   ],
   "source": [
    "s = list(s)\n",
    "result = ''\n",
    "while s:\n",
    "    for letter in sorted(set(s)):\n",
    "        s.remove(letter)\n",
    "        result += letter\n",
    "    for letter in sorted(set(s), reverse=True):\n",
    "        s.remove(letter)\n",
    "        result += letter\n",
    "result"
   ]
  },
  {
   "cell_type": "code",
   "execution_count": 9,
   "metadata": {},
   "outputs": [
    {
     "name": "stdout",
     "output_type": "stream",
     "text": [
      "0 -1\n",
      "1 -2\n",
      "2 -3\n",
      "3 -4\n",
      "4 -5\n"
     ]
    }
   ],
   "source": [
    "for i in range(5):\n",
    "    print(i, ~i)"
   ]
  },
  {
   "cell_type": "markdown",
   "metadata": {},
   "source": [
    "**1304. Find N Unique Integers Sum up to Zero**"
   ]
  },
  {
   "cell_type": "code",
   "execution_count": 21,
   "metadata": {},
   "outputs": [
    {
     "data": {
      "text/plain": [
       "[0, 1, 2, 3, 4, -1, -2, -3, -4]"
      ]
     },
     "execution_count": 21,
     "metadata": {},
     "output_type": "execute_result"
    }
   ],
   "source": [
    "n = 9\n",
    "ans = []\n",
    "if n%2 == 1:\n",
    "    ans.append(0)\n",
    "for i in range(1, n//2+1):\n",
    "    ans.append(i)\n",
    "for i in range(1, n//2+1):\n",
    "    ans.append(-i)\n",
    "ans"
   ]
  },
  {
   "cell_type": "code",
   "execution_count": 23,
   "metadata": {},
   "outputs": [
    {
     "data": {
      "text/plain": [
       "[-4, 4, -3, 3, -2, 2, -1, 1]"
      ]
     },
     "execution_count": 23,
     "metadata": {},
     "output_type": "execute_result"
    }
   ],
   "source": [
    "# using while loop\n",
    "n = 8\n",
    "a=n//2\n",
    "res=[]\n",
    "while a>0:\n",
    "    res.append(-a)\n",
    "    res.append(a)\n",
    "    a-=1\n",
    "if n%2==1:\n",
    "    res.append(0)\n",
    "res"
   ]
  },
  {
   "cell_type": "markdown",
   "metadata": {},
   "source": [
    "**1374. Generate a String With Characters That Have Odd Counts**\n",
    "\n",
    "If n is odd, return a string of size n formed only by 'a', else return string formed with n-1 'a' and 1 'b''."
   ]
  },
  {
   "cell_type": "code",
   "execution_count": 32,
   "metadata": {},
   "outputs": [
    {
     "data": {
      "text/plain": [
       "'aaaaaaaab'"
      ]
     },
     "execution_count": 32,
     "metadata": {},
     "output_type": "execute_result"
    }
   ],
   "source": [
    "n = 8\n",
    "s = ''\n",
    "if n%2==1:\n",
    "    s = 'a'*n\n",
    "else:\n",
    "    s ='a'*(n-1) + 'b'\n",
    "s"
   ]
  },
  {
   "cell_type": "markdown",
   "metadata": {},
   "source": [
    "**1351. Count Negative Numbers in a Sorted Matrix**"
   ]
  },
  {
   "cell_type": "code",
   "execution_count": 1,
   "metadata": {},
   "outputs": [],
   "source": [
    "grid = [[4,3,2,-1],[3,2,1,-1],[1,1,-1,-2],[-1,-1,-2,-3]]"
   ]
  },
  {
   "cell_type": "code",
   "execution_count": 4,
   "metadata": {},
   "outputs": [
    {
     "data": {
      "text/plain": [
       "8"
      ]
     },
     "execution_count": 4,
     "metadata": {},
     "output_type": "execute_result"
    }
   ],
   "source": [
    "count = 0\n",
    "for i in range(len(grid)):\n",
    "    for j in range(len(grid[i])):\n",
    "        if grid[i][j] < 0:\n",
    "            count += 1\n",
    "count"
   ]
  },
  {
   "cell_type": "code",
   "execution_count": 5,
   "metadata": {},
   "outputs": [
    {
     "data": {
      "text/plain": [
       "8"
      ]
     },
     "execution_count": 5,
     "metadata": {},
     "output_type": "execute_result"
    }
   ],
   "source": [
    "import numpy as np\n",
    "(np.array(grid) < 0).sum()"
   ]
  },
  {
   "cell_type": "markdown",
   "metadata": {},
   "source": [
    "**1748. Sum of Unique Elements**\n",
    "\n",
    " * Count the frequency of elements in A using Counter\n",
    " * Sum up the element a if its frequency c == 1"
   ]
  },
  {
   "cell_type": "code",
   "execution_count": 9,
   "metadata": {},
   "outputs": [
    {
     "data": {
      "text/plain": [
       "15"
      ]
     },
     "execution_count": 9,
     "metadata": {},
     "output_type": "execute_result"
    }
   ],
   "source": [
    "nums = [1,2,3,4,5]\n",
    "d = {}\n",
    "for c in nums:\n",
    "    if c not in d:\n",
    "        d[c] = 0\n",
    "    d[c] += 1\n",
    "    \n",
    "sum_num = 0\n",
    "for key, value in d.items():\n",
    "    if value == 1:\n",
    "        sum_num += key\n",
    "        \n",
    "sum_num"
   ]
  },
  {
   "cell_type": "code",
   "execution_count": 10,
   "metadata": {},
   "outputs": [
    {
     "data": {
      "text/plain": [
       "15"
      ]
     },
     "execution_count": 10,
     "metadata": {},
     "output_type": "execute_result"
    }
   ],
   "source": [
    "nums = [1,2,3,4,5]\n",
    "d = {}\n",
    "for c in nums:\n",
    "    if c not in d:\n",
    "        d[c] = 0\n",
    "    d[c] += 1\n",
    "    \n",
    "ans=0\n",
    "for i in d:\n",
    "    if d[i]==1:\n",
    "        ans+=i\n",
    "ans"
   ]
  },
  {
   "cell_type": "code",
   "execution_count": null,
   "metadata": {},
   "outputs": [],
   "source": []
  }
 ],
 "metadata": {
  "kernelspec": {
   "display_name": "Python 3",
   "language": "python",
   "name": "python3"
  },
  "language_info": {
   "codemirror_mode": {
    "name": "ipython",
    "version": 3
   },
   "file_extension": ".py",
   "mimetype": "text/x-python",
   "name": "python",
   "nbconvert_exporter": "python",
   "pygments_lexer": "ipython3",
   "version": "3.8.5"
  }
 },
 "nbformat": 4,
 "nbformat_minor": 4
}
