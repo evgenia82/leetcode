{
 "cells": [
  {
   "cell_type": "markdown",
   "metadata": {},
   "source": [
    "[**1700. Number of Students Unable to Eat Lunch**](https://leetcode.com/problems/number-of-students-unable-to-eat-lunch/)\n"
   ]
  },
  {
   "cell_type": "code",
   "execution_count": 8,
   "metadata": {},
   "outputs": [],
   "source": [
    "def countStudents(stu, sand):\n",
    "        while sand:\n",
    "            if sand[0] in stu:\n",
    "                stu.remove(sand[0])\n",
    "                sand.pop(0)\n",
    "            else:break\n",
    "        return len(sand)"
   ]
  },
  {
   "cell_type": "code",
   "execution_count": 9,
   "metadata": {},
   "outputs": [
    {
     "data": {
      "text/plain": [
       "3"
      ]
     },
     "execution_count": 9,
     "metadata": {},
     "output_type": "execute_result"
    }
   ],
   "source": [
    "countStudents([1,1,1,0,0,1], [1,0,0,0,1,1])"
   ]
  },
  {
   "cell_type": "code",
   "execution_count": 10,
   "metadata": {},
   "outputs": [],
   "source": [
    "students = [1,1,1,0,0,1]\n",
    "sandwiches = [1,0,0,0,1,1]"
   ]
  },
  {
   "cell_type": "code",
   "execution_count": 11,
   "metadata": {},
   "outputs": [],
   "source": [
    "students = [1,1,0,0]\n",
    "sandwiches = [0,1,0,1]"
   ]
  },
  {
   "cell_type": "code",
   "execution_count": 12,
   "metadata": {},
   "outputs": [],
   "source": [
    "# my solution. I use a python list \n",
    "def countStudents2(students, sandwiches):\n",
    "    \n",
    "    # while we still have students waiting in line to eat\n",
    "    while students:\n",
    "        \n",
    "        # if there is no such kind of sandwiches that students want - break\n",
    "        if sandwiches[0] not in students:\n",
    "            break\n",
    "            \n",
    "        # if a student doesn't want that sandwich - he goes to the end of the line\n",
    "        elif students[0] != sandwiches[0]:\n",
    "            val = students.pop(0)\n",
    "            students.append(val)\n",
    "            \n",
    "        # if the student takes a sandwich - remove the student and the sandwich\n",
    "        else:\n",
    "            students.pop(0)\n",
    "            sandwiches.pop(0)\n",
    "            \n",
    "    # return how many hungry students left\n",
    "    return len(students)"
   ]
  },
  {
   "cell_type": "code",
   "execution_count": 13,
   "metadata": {},
   "outputs": [
    {
     "data": {
      "text/plain": [
       "0"
      ]
     },
     "execution_count": 13,
     "metadata": {},
     "output_type": "execute_result"
    }
   ],
   "source": [
    "countStudents([1,1,0,0], [0,1,0,1])"
   ]
  },
  {
   "cell_type": "markdown",
   "metadata": {},
   "source": [
    "[**1441. Build an Array With Stack Operations**](https://leetcode.com/problems/build-an-array-with-stack-operations/)"
   ]
  },
  {
   "cell_type": "code",
   "execution_count": 31,
   "metadata": {},
   "outputs": [],
   "source": [
    "target = [2,3,4]\n",
    "n = 4"
   ]
  },
  {
   "cell_type": "code",
   "execution_count": 33,
   "metadata": {},
   "outputs": [],
   "source": [
    "def buildArray(target, n):\n",
    "    # create a list to store the results\n",
    "    output = list()\n",
    "        \n",
    "    # iterate through the sequence of numbers\n",
    "    for number in range(1, n + 1):\n",
    "            \n",
    "        # check if the number equals to the first element of target array\n",
    "        if number == target[0]:\n",
    "                \n",
    "            # if yes, add \"push\" to the output\n",
    "            output.extend([\"Push\"])\n",
    "                \n",
    "            # remove the number from the target array\n",
    "            target.pop(0)\n",
    "                \n",
    "        else:\n",
    "            # if no, add [\"push\", \"pop\"] to the output\n",
    "            output.extend([\"Push\", \"Pop\"])\n",
    "                \n",
    "        # increase the number  \n",
    "        number += 1\n",
    "            \n",
    "        # break the loop if the target array is empty\n",
    "        if not target:\n",
    "            break\n",
    "    return output"
   ]
  },
  {
   "cell_type": "code",
   "execution_count": 34,
   "metadata": {},
   "outputs": [
    {
     "data": {
      "text/plain": [
       "['Push', 'Pop', 'Push', 'Push', 'Push']"
      ]
     },
     "execution_count": 34,
     "metadata": {},
     "output_type": "execute_result"
    }
   ],
   "source": [
    "buildArray(target = [2,3,4],n = 4)"
   ]
  },
  {
   "cell_type": "code",
   "execution_count": null,
   "metadata": {},
   "outputs": [],
   "source": []
  }
 ],
 "metadata": {
  "kernelspec": {
   "display_name": "Python 3",
   "language": "python",
   "name": "python3"
  },
  "language_info": {
   "codemirror_mode": {
    "name": "ipython",
    "version": 3
   },
   "file_extension": ".py",
   "mimetype": "text/x-python",
   "name": "python",
   "nbconvert_exporter": "python",
   "pygments_lexer": "ipython3",
   "version": "3.8.5"
  }
 },
 "nbformat": 4,
 "nbformat_minor": 4
}
